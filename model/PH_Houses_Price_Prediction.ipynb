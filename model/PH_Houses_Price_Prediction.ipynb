{
 "cells": [
  {
   "cell_type": "markdown",
   "metadata": {},
   "source": [
    "# Data Science Regression Project"
   ]
  },
  {
   "cell_type": "markdown",
   "metadata": {},
   "source": [
    "## Data Exploration"
   ]
  },
  {
   "cell_type": "code",
   "execution_count": 1,
   "metadata": {},
   "outputs": [],
   "source": [
    "# Importing essential libraries\n",
    "import numpy as np\n",
    "import pandas as pd\n",
    "import matplotlib.pyplot as plt\n",
    "import seaborn as sns"
   ]
  },
  {
   "cell_type": "code",
   "execution_count": 2,
   "metadata": {},
   "outputs": [
    {
     "data": {
      "text/html": [
       "<div>\n",
       "<style scoped>\n",
       "    .dataframe tbody tr th:only-of-type {\n",
       "        vertical-align: middle;\n",
       "    }\n",
       "\n",
       "    .dataframe tbody tr th {\n",
       "        vertical-align: top;\n",
       "    }\n",
       "\n",
       "    .dataframe thead th {\n",
       "        text-align: right;\n",
       "    }\n",
       "</style>\n",
       "<table border=\"1\" class=\"dataframe\">\n",
       "  <thead>\n",
       "    <tr style=\"text-align: right;\">\n",
       "      <th></th>\n",
       "      <th>Description</th>\n",
       "      <th>Location</th>\n",
       "      <th>Price (PHP)</th>\n",
       "      <th>Bedrooms</th>\n",
       "      <th>Bath</th>\n",
       "      <th>Floor_area (sqm)</th>\n",
       "      <th>Land_area (sqm)</th>\n",
       "      <th>Latitude</th>\n",
       "      <th>Longitude</th>\n",
       "      <th>Link</th>\n",
       "    </tr>\n",
       "  </thead>\n",
       "  <tbody>\n",
       "    <tr>\n",
       "      <th>0</th>\n",
       "      <td>2-Bedroom Unit for Sale in Amisa Private Resid...</td>\n",
       "      <td>Mactan, Lapu-Lapu</td>\n",
       "      <td>15,916,180</td>\n",
       "      <td>2.0</td>\n",
       "      <td>2.0</td>\n",
       "      <td>74.0</td>\n",
       "      <td>NaN</td>\n",
       "      <td>10.3051555</td>\n",
       "      <td>124.011241</td>\n",
       "      <td>https://www.lamudi.com.ph/2-bedroom-unit-for-s...</td>\n",
       "    </tr>\n",
       "    <tr>\n",
       "      <th>1</th>\n",
       "      <td>1-Bedroom Unit for Sale in Amisa Private Resid...</td>\n",
       "      <td>Mactan, Lapu-Lapu</td>\n",
       "      <td>8,730,355</td>\n",
       "      <td>1.0</td>\n",
       "      <td>1.0</td>\n",
       "      <td>41.0</td>\n",
       "      <td>NaN</td>\n",
       "      <td>10.3051555</td>\n",
       "      <td>124.011241</td>\n",
       "      <td>https://www.lamudi.com.ph/1-bedroom-unit-for-s...</td>\n",
       "    </tr>\n",
       "    <tr>\n",
       "      <th>2</th>\n",
       "      <td>Offices at The Galleon - Prime Unit (11G) for ...</td>\n",
       "      <td>San Antonio, Pasig</td>\n",
       "      <td>27,448,000</td>\n",
       "      <td>NaN</td>\n",
       "      <td>NaN</td>\n",
       "      <td>82.0</td>\n",
       "      <td>NaN</td>\n",
       "      <td>14.588716</td>\n",
       "      <td>121.060009</td>\n",
       "      <td>https://www.lamudi.com.ph/offices-at-the-galle...</td>\n",
       "    </tr>\n",
       "    <tr>\n",
       "      <th>3</th>\n",
       "      <td>1-Bedroom Unit (821) for Sale in Maple at Verd...</td>\n",
       "      <td>Ugong, Pasig</td>\n",
       "      <td>16,011,000</td>\n",
       "      <td>1.0</td>\n",
       "      <td>NaN</td>\n",
       "      <td>58.0</td>\n",
       "      <td>NaN</td>\n",
       "      <td>14.588882</td>\n",
       "      <td>121.079016</td>\n",
       "      <td>https://www.lamudi.com.ph/1-bedroom-unit-821-f...</td>\n",
       "    </tr>\n",
       "    <tr>\n",
       "      <th>4</th>\n",
       "      <td>Alice 2 Storey Townhouse For Sale in Lancaster...</td>\n",
       "      <td>Tapia, General Trias</td>\n",
       "      <td>1,935,600</td>\n",
       "      <td>3.0</td>\n",
       "      <td>NaN</td>\n",
       "      <td>40.0</td>\n",
       "      <td>40.0</td>\n",
       "      <td>14.35507</td>\n",
       "      <td>120.876425</td>\n",
       "      <td>https://www.lamudi.com.ph/alice-2-storey-townh...</td>\n",
       "    </tr>\n",
       "  </tbody>\n",
       "</table>\n",
       "</div>"
      ],
      "text/plain": [
       "                                         Description              Location  \\\n",
       "0  2-Bedroom Unit for Sale in Amisa Private Resid...     Mactan, Lapu-Lapu   \n",
       "1  1-Bedroom Unit for Sale in Amisa Private Resid...     Mactan, Lapu-Lapu   \n",
       "2  Offices at The Galleon - Prime Unit (11G) for ...    San Antonio, Pasig   \n",
       "3  1-Bedroom Unit (821) for Sale in Maple at Verd...          Ugong, Pasig   \n",
       "4  Alice 2 Storey Townhouse For Sale in Lancaster...  Tapia, General Trias   \n",
       "\n",
       "  Price (PHP)  Bedrooms  Bath  Floor_area (sqm)  Land_area (sqm)    Latitude  \\\n",
       "0  15,916,180       2.0   2.0              74.0              NaN  10.3051555   \n",
       "1   8,730,355       1.0   1.0              41.0              NaN  10.3051555   \n",
       "2  27,448,000       NaN   NaN              82.0              NaN   14.588716   \n",
       "3  16,011,000       1.0   NaN              58.0              NaN   14.588882   \n",
       "4   1,935,600       3.0   NaN              40.0             40.0    14.35507   \n",
       "\n",
       "    Longitude                                               Link  \n",
       "0  124.011241  https://www.lamudi.com.ph/2-bedroom-unit-for-s...  \n",
       "1  124.011241  https://www.lamudi.com.ph/1-bedroom-unit-for-s...  \n",
       "2  121.060009  https://www.lamudi.com.ph/offices-at-the-galle...  \n",
       "3  121.079016  https://www.lamudi.com.ph/1-bedroom-unit-821-f...  \n",
       "4  120.876425  https://www.lamudi.com.ph/alice-2-storey-townh...  "
      ]
     },
     "execution_count": 2,
     "metadata": {},
     "output_type": "execute_result"
    }
   ],
   "source": [
    "df = pd.read_csv(\"PH_houses.csv\")\n",
    "df.head()"
   ]
  },
  {
   "cell_type": "code",
   "execution_count": 3,
   "metadata": {},
   "outputs": [
    {
     "data": {
      "text/html": [
       "<div>\n",
       "<style scoped>\n",
       "    .dataframe tbody tr th:only-of-type {\n",
       "        vertical-align: middle;\n",
       "    }\n",
       "\n",
       "    .dataframe tbody tr th {\n",
       "        vertical-align: top;\n",
       "    }\n",
       "\n",
       "    .dataframe thead th {\n",
       "        text-align: right;\n",
       "    }\n",
       "</style>\n",
       "<table border=\"1\" class=\"dataframe\">\n",
       "  <thead>\n",
       "    <tr style=\"text-align: right;\">\n",
       "      <th></th>\n",
       "      <th>Location</th>\n",
       "      <th>Price (PHP)</th>\n",
       "      <th>Bedrooms</th>\n",
       "      <th>Bath</th>\n",
       "      <th>Floor_area (sqm)</th>\n",
       "    </tr>\n",
       "  </thead>\n",
       "  <tbody>\n",
       "    <tr>\n",
       "      <th>0</th>\n",
       "      <td>Mactan, Lapu-Lapu</td>\n",
       "      <td>15,916,180</td>\n",
       "      <td>2.0</td>\n",
       "      <td>2.0</td>\n",
       "      <td>74.0</td>\n",
       "    </tr>\n",
       "    <tr>\n",
       "      <th>1</th>\n",
       "      <td>Mactan, Lapu-Lapu</td>\n",
       "      <td>8,730,355</td>\n",
       "      <td>1.0</td>\n",
       "      <td>1.0</td>\n",
       "      <td>41.0</td>\n",
       "    </tr>\n",
       "    <tr>\n",
       "      <th>2</th>\n",
       "      <td>San Antonio, Pasig</td>\n",
       "      <td>27,448,000</td>\n",
       "      <td>NaN</td>\n",
       "      <td>NaN</td>\n",
       "      <td>82.0</td>\n",
       "    </tr>\n",
       "    <tr>\n",
       "      <th>3</th>\n",
       "      <td>Ugong, Pasig</td>\n",
       "      <td>16,011,000</td>\n",
       "      <td>1.0</td>\n",
       "      <td>NaN</td>\n",
       "      <td>58.0</td>\n",
       "    </tr>\n",
       "    <tr>\n",
       "      <th>4</th>\n",
       "      <td>Tapia, General Trias</td>\n",
       "      <td>1,935,600</td>\n",
       "      <td>3.0</td>\n",
       "      <td>NaN</td>\n",
       "      <td>40.0</td>\n",
       "    </tr>\n",
       "  </tbody>\n",
       "</table>\n",
       "</div>"
      ],
      "text/plain": [
       "               Location Price (PHP)  Bedrooms  Bath  Floor_area (sqm)\n",
       "0     Mactan, Lapu-Lapu  15,916,180       2.0   2.0              74.0\n",
       "1     Mactan, Lapu-Lapu   8,730,355       1.0   1.0              41.0\n",
       "2    San Antonio, Pasig  27,448,000       NaN   NaN              82.0\n",
       "3          Ugong, Pasig  16,011,000       1.0   NaN              58.0\n",
       "4  Tapia, General Trias   1,935,600       3.0   NaN              40.0"
      ]
     },
     "execution_count": 3,
     "metadata": {},
     "output_type": "execute_result"
    }
   ],
   "source": [
    "df1 = df.drop([\"Description\", \"Latitude\", \"Longitude\", \"Link\", \"Land_area (sqm)\"],axis = \"columns\")\n",
    "df1.head()"
   ]
  },
  {
   "cell_type": "code",
   "execution_count": 4,
   "metadata": {},
   "outputs": [
    {
     "data": {
      "text/plain": [
       "(1500, 10)"
      ]
     },
     "execution_count": 4,
     "metadata": {},
     "output_type": "execute_result"
    }
   ],
   "source": [
    "df.shape"
   ]
  },
  {
   "cell_type": "code",
   "execution_count": 5,
   "metadata": {},
   "outputs": [
    {
     "data": {
      "text/plain": [
       "Description\n",
       "1 bedroom Condominium for Sale in Suntrust Capitol Plaza, Diliman, Quezon City              3\n",
       "1-Bedroom Beach Condo for Sale in Seafront Residences (Seafront Villas), San Juan, Ba...    1\n",
       "1-Bedroom Condo Unit (10J) for Sale in One Sierra, EDSA, Mandaluyong City, Metro Mani...    2\n",
       "1-Bedroom Condo Unit (22J) for Sale in One Sierra, EDSA, Mandaluyong City, Metro Mani...    1\n",
       "1-Bedroom Condo Unit (24A) for Sale in One Sierra, EDSA, Mandaluyong City, Metro Mani...    2\n",
       "                                                                                           ..\n",
       "Townhouse Mid Unit for Sale in Ajoya Capas, Tarlac - with Special Offer                     1\n",
       "Viridian in Greenhills, 2-Bedroom Unit (46H) for Sale in San Juan City                      1\n",
       "Viridian in Greenhills, 2-Bedroom Unit (50H) for Sale in San Juan City                      1\n",
       "Viridian in Greenhills, 2-Bedroom Unit (51H) for Sale in San Juan City                      1\n",
       "YURI 2BR 2-Storey Single Detached for Sale in Idesia Heights, Dasmarinas Cavite             1\n",
       "Name: Description, Length: 1255, dtype: int64"
      ]
     },
     "execution_count": 5,
     "metadata": {},
     "output_type": "execute_result"
    }
   ],
   "source": [
    "df.groupby(\"Description\")[\"Description\"].agg(\"count\")"
   ]
  },
  {
   "cell_type": "code",
   "execution_count": 6,
   "metadata": {},
   "outputs": [
    {
     "data": {
      "text/plain": [
       "Location              0\n",
       "Price (PHP)          40\n",
       "Bedrooms            120\n",
       "Bath                633\n",
       "Floor_area (sqm)     58\n",
       "dtype: int64"
      ]
     },
     "execution_count": 6,
     "metadata": {},
     "output_type": "execute_result"
    }
   ],
   "source": [
    "df1.isnull().sum()"
   ]
  },
  {
   "cell_type": "code",
   "execution_count": 7,
   "metadata": {},
   "outputs": [
    {
     "data": {
      "text/plain": [
       "array([ 2.,  1., nan,  3.,  5.,  4.])"
      ]
     },
     "execution_count": 7,
     "metadata": {},
     "output_type": "execute_result"
    }
   ],
   "source": [
    "df1[\"Bedrooms\"].unique()"
   ]
  },
  {
   "cell_type": "code",
   "execution_count": 8,
   "metadata": {},
   "outputs": [
    {
     "data": {
      "text/plain": [
       "array([ 2.,  1., nan,  3.,  4.,  5.,  6.])"
      ]
     },
     "execution_count": 8,
     "metadata": {},
     "output_type": "execute_result"
    }
   ],
   "source": [
    "df1[\"Bath\"].unique()"
   ]
  },
  {
   "cell_type": "code",
   "execution_count": 9,
   "metadata": {},
   "outputs": [
    {
     "data": {
      "text/plain": [
       "array(['Mactan, Lapu-Lapu', 'San Antonio, Pasig', 'Ugong, Pasig',\n",
       "       'Tapia, General Trias', 'Highway Hills, Mandaluyong',\n",
       "       'Oranbo, Pasig', 'Isabang, Tayabas', 'Cupang Proper, Balanga',\n",
       "       'Barangay 19-B, Davao', 'Cabuco, Trece Martires',\n",
       "       'Longos, Malolos', 'Buli, Taal', 'Hippodromo, Cebu',\n",
       "       'Ortigas CBD, Pasig', 'Sapang Palay, San Jose del Monte',\n",
       "       'Novaliches, Quezon City', 'Sampaloc II, Dasmarinas',\n",
       "       'Wack-Wack Greenhills, Mandaluyong', 'Talamban, Cebu',\n",
       "       'Cupang, Muntinlupa', 'Bagong Ilog, Pasig',\n",
       "       'Maitim 2nd West, Tagaytay', 'Mandalagan, Bacolod',\n",
       "       'Alabang, Muntinlupa', 'Eastwood City, Quezon City',\n",
       "       'Gibraltar, Baguio', 'Darasa, Tanauan', 'Paligsahan, Quezon City',\n",
       "       'Calubcub II, San Juan', 'Bagakay, Ozamiz',\n",
       "       'Barangka Ilaya, Mandaluyong', 'Bakakeng Central, Baguio',\n",
       "       'Hulo, Mandaluyong', 'Manggahan, Pasig', 'Talon Uno, Las Pinas',\n",
       "       'Ermita, Manila', 'Ma-A, Davao', 'Sambag II, Cebu',\n",
       "       'Pag-Ibig Sa Nayon, Quezon City', 'F.B Harisson, Pasay',\n",
       "       'Almanza Uno, Las Pinas', 'San Juan, Cainta', 'Platero, Binan',\n",
       "       'San Nicolas, San Fernando', 'Punta, Calamba', 'Mampalasan, Binan',\n",
       "       'Carsadang Bago I, Imus', 'Loyola Heights, Quezon City',\n",
       "       'Bagumbayan, Quezon City', 'Greenhills, San Juan',\n",
       "       'Roxas Boulevard, Manila', 'Caysio, Santa Maria', 'Lumil, Silang',\n",
       "       'Tagkawayan', 'Malate, Manila', 'San Antonio, Davao',\n",
       "       'Langkaan I, Dasmarinas', 'Alapan II-A, Imus', 'Eden, Mexico',\n",
       "       'Bugtong Na Pulo, Lipa', 'Halayhay, Tanza', 'Tanauan, Tanza',\n",
       "       'Agus, Lapu-Lapu', 'Diliman, Quezon City',\n",
       "       'Pasong Camachile I, General Trias', 'Palo-Alto, Calamba',\n",
       "       'Bulac, Santa Maria', 'Quezon Hill Proper, Baguio',\n",
       "       'Biclatan, General Trias', 'Anabu II-A, Imus',\n",
       "       'Tamiao, Compostela', 'Santo Tomas Proper, Baguio',\n",
       "       'Tipolo, Mandaue', 'Kaytitinga III, Alfonso', 'Zapatera, Cebu',\n",
       "       'Santa Ana, Manila', 'Pasay Rotonda, Pasay', 'Merville, Paranaque',\n",
       "       'Majada Labas, Calamba', 'Sasa, Davao', 'Santo Nino, Binan',\n",
       "       'San Sebastian, Kawit', 'New Manila, Quezon City',\n",
       "       'North Reclamation Area, Cebu', 'Talaga, Capas',\n",
       "       'Manggahan, General Trias', 'Paso de Blas, Valenzuela',\n",
       "       'Moog, Laguindingan', 'Buenavista I, General Trias',\n",
       "       'Laiya-Aplaya, San Juan', 'Banaybanay II, San Jose',\n",
       "       'San Agustin I, Dasmarinas', 'McKinley Hill, Taguig',\n",
       "       'Antipolo del Sur, Lipa', 'Libertad, Pasay',\n",
       "       'Manibaug Paralaya, Porac', 'Pinagbuhatan, Pasig',\n",
       "       'Alang-Alang, Mandaue', 'Sabang, Naic', 'Biluso, Silang',\n",
       "       'Mambog I, Bacoor', 'Malanday, San Mateo', 'Mabolo, Cebu',\n",
       "       'Cubao, Quezon City', 'Valle Cruz, Cabanatuan',\n",
       "       'San Antonio, Santo Tomas', 'Inosloban, Lipa', 'Tabun, Mabalacat',\n",
       "       'Palingon, Calamba', 'San Francisco, Binan',\n",
       "       'Cansomoroy, Balamban', 'Tawason, Mandaue',\n",
       "       'Salcedo Village, Makati'], dtype=object)"
      ]
     },
     "execution_count": 9,
     "metadata": {},
     "output_type": "execute_result"
    }
   ],
   "source": [
    "df1[\"Location\"].unique()"
   ]
  },
  {
   "cell_type": "code",
   "execution_count": 10,
   "metadata": {},
   "outputs": [
    {
     "data": {
      "text/plain": [
       "array([  74.,   41.,   82.,   58.,   40.,   32.,   46.,   56.,   70.,\n",
       "         33.,   67.,   66.,  166.,   92.,   57.,   53.,   22.,  100.,\n",
       "        106.,   36.,   35.,   97.,  142.,   65.,   39.,   34.,   38.,\n",
       "        104.,   45.,   85.,   54.,   83.,   76.,   68.,   87.,   50.,\n",
       "         89.,   42.,   84.,  101.,  128.,   73.,  160.,   88.,   30.,\n",
       "         80.,   24.,   nan,  108.,   27.,   69.,   48.,  112.,   23.,\n",
       "       1136.,   37.,   60.,   28.,  195.,   75.,   62.,   93.,   29.,\n",
       "         31.,  174.,   63.,  119.,   18.,  120.,  141.,   20.,  107.,\n",
       "         55.,  114.,  179.,   19.,   52.,  121.,  237.,  206.,  171.,\n",
       "         95.,   72.,  102.,   51.,   25.,   90.,  110.,  409.,  123.,\n",
       "         71.,   77.,   21.,  115.,   49.,   17.,   59.,  150.,   16.,\n",
       "         26.,   79.,  188.,   96.,  149.,   43.,  136.,  268.,  117.,\n",
       "        211.,   78.,  176.,  116.,   44.,  103.,  139.,   81.,  241.,\n",
       "        111.,  167.,   64.,  109.,  147.,   98.,  155.,  250.,  323.,\n",
       "         47.,   91.,  124.,  178.,   99.,  143.,  140.,  113.,  317.,\n",
       "        187.,  126.,  144.,  132.,  152.,  137.,  164.,  305.,  151.,\n",
       "        173.])"
      ]
     },
     "execution_count": 10,
     "metadata": {},
     "output_type": "execute_result"
    }
   ],
   "source": [
    "df1[\"Floor_area (sqm)\"].unique()"
   ]
  },
  {
   "cell_type": "markdown",
   "metadata": {},
   "source": [
    "## Data Preprocessing"
   ]
  },
  {
   "cell_type": "code",
   "execution_count": 11,
   "metadata": {},
   "outputs": [
    {
     "data": {
      "text/html": [
       "<div>\n",
       "<style scoped>\n",
       "    .dataframe tbody tr th:only-of-type {\n",
       "        vertical-align: middle;\n",
       "    }\n",
       "\n",
       "    .dataframe tbody tr th {\n",
       "        vertical-align: top;\n",
       "    }\n",
       "\n",
       "    .dataframe thead th {\n",
       "        text-align: right;\n",
       "    }\n",
       "</style>\n",
       "<table border=\"1\" class=\"dataframe\">\n",
       "  <thead>\n",
       "    <tr style=\"text-align: right;\">\n",
       "      <th></th>\n",
       "      <th>location</th>\n",
       "      <th>price</th>\n",
       "      <th>bhk</th>\n",
       "      <th>bath</th>\n",
       "      <th>sqm</th>\n",
       "    </tr>\n",
       "  </thead>\n",
       "  <tbody>\n",
       "    <tr>\n",
       "      <th>0</th>\n",
       "      <td>Mactan, Lapu-Lapu</td>\n",
       "      <td>15,916,180</td>\n",
       "      <td>2.0</td>\n",
       "      <td>2.0</td>\n",
       "      <td>74.0</td>\n",
       "    </tr>\n",
       "    <tr>\n",
       "      <th>1</th>\n",
       "      <td>Mactan, Lapu-Lapu</td>\n",
       "      <td>8,730,355</td>\n",
       "      <td>1.0</td>\n",
       "      <td>1.0</td>\n",
       "      <td>41.0</td>\n",
       "    </tr>\n",
       "    <tr>\n",
       "      <th>2</th>\n",
       "      <td>San Antonio, Pasig</td>\n",
       "      <td>27,448,000</td>\n",
       "      <td>NaN</td>\n",
       "      <td>NaN</td>\n",
       "      <td>82.0</td>\n",
       "    </tr>\n",
       "    <tr>\n",
       "      <th>3</th>\n",
       "      <td>Ugong, Pasig</td>\n",
       "      <td>16,011,000</td>\n",
       "      <td>1.0</td>\n",
       "      <td>NaN</td>\n",
       "      <td>58.0</td>\n",
       "    </tr>\n",
       "    <tr>\n",
       "      <th>4</th>\n",
       "      <td>Tapia, General Trias</td>\n",
       "      <td>1,935,600</td>\n",
       "      <td>3.0</td>\n",
       "      <td>NaN</td>\n",
       "      <td>40.0</td>\n",
       "    </tr>\n",
       "  </tbody>\n",
       "</table>\n",
       "</div>"
      ],
      "text/plain": [
       "               location       price  bhk  bath   sqm\n",
       "0     Mactan, Lapu-Lapu  15,916,180  2.0   2.0  74.0\n",
       "1     Mactan, Lapu-Lapu   8,730,355  1.0   1.0  41.0\n",
       "2    San Antonio, Pasig  27,448,000  NaN   NaN  82.0\n",
       "3          Ugong, Pasig  16,011,000  1.0   NaN  58.0\n",
       "4  Tapia, General Trias   1,935,600  3.0   NaN  40.0"
      ]
     },
     "execution_count": 11,
     "metadata": {},
     "output_type": "execute_result"
    }
   ],
   "source": [
    "df1.rename(columns={'Location': 'location','Price (PHP)': 'price','Bedrooms': 'bhk', 'Bath': 'bath', 'Floor_area (sqm)': 'sqm',},inplace=True)\n",
    "df1.head()"
   ]
  },
  {
   "cell_type": "code",
   "execution_count": 12,
   "metadata": {},
   "outputs": [
    {
     "data": {
      "text/plain": [
       "location      0\n",
       "price        40\n",
       "bhk         120\n",
       "bath        633\n",
       "sqm          58\n",
       "dtype: int64"
      ]
     },
     "execution_count": 12,
     "metadata": {},
     "output_type": "execute_result"
    }
   ],
   "source": [
    "df1.isnull().sum()"
   ]
  },
  {
   "cell_type": "code",
   "execution_count": 13,
   "metadata": {},
   "outputs": [
    {
     "data": {
      "text/html": [
       "<div>\n",
       "<style scoped>\n",
       "    .dataframe tbody tr th:only-of-type {\n",
       "        vertical-align: middle;\n",
       "    }\n",
       "\n",
       "    .dataframe tbody tr th {\n",
       "        vertical-align: top;\n",
       "    }\n",
       "\n",
       "    .dataframe thead th {\n",
       "        text-align: right;\n",
       "    }\n",
       "</style>\n",
       "<table border=\"1\" class=\"dataframe\">\n",
       "  <thead>\n",
       "    <tr style=\"text-align: right;\">\n",
       "      <th></th>\n",
       "      <th>location</th>\n",
       "      <th>price</th>\n",
       "      <th>bhk</th>\n",
       "      <th>bath</th>\n",
       "      <th>sqm</th>\n",
       "    </tr>\n",
       "  </thead>\n",
       "  <tbody>\n",
       "    <tr>\n",
       "      <th>0</th>\n",
       "      <td>Mactan, Lapu-Lapu</td>\n",
       "      <td>15916180</td>\n",
       "      <td>2.0</td>\n",
       "      <td>2.0</td>\n",
       "      <td>74.0</td>\n",
       "    </tr>\n",
       "    <tr>\n",
       "      <th>1</th>\n",
       "      <td>Mactan, Lapu-Lapu</td>\n",
       "      <td>8730355</td>\n",
       "      <td>1.0</td>\n",
       "      <td>1.0</td>\n",
       "      <td>41.0</td>\n",
       "    </tr>\n",
       "    <tr>\n",
       "      <th>2</th>\n",
       "      <td>San Antonio, Pasig</td>\n",
       "      <td>27448000</td>\n",
       "      <td>NaN</td>\n",
       "      <td>NaN</td>\n",
       "      <td>82.0</td>\n",
       "    </tr>\n",
       "    <tr>\n",
       "      <th>3</th>\n",
       "      <td>Ugong, Pasig</td>\n",
       "      <td>16011000</td>\n",
       "      <td>1.0</td>\n",
       "      <td>NaN</td>\n",
       "      <td>58.0</td>\n",
       "    </tr>\n",
       "    <tr>\n",
       "      <th>4</th>\n",
       "      <td>Tapia, General Trias</td>\n",
       "      <td>1935600</td>\n",
       "      <td>3.0</td>\n",
       "      <td>NaN</td>\n",
       "      <td>40.0</td>\n",
       "    </tr>\n",
       "    <tr>\n",
       "      <th>...</th>\n",
       "      <td>...</td>\n",
       "      <td>...</td>\n",
       "      <td>...</td>\n",
       "      <td>...</td>\n",
       "      <td>...</td>\n",
       "    </tr>\n",
       "    <tr>\n",
       "      <th>1495</th>\n",
       "      <td>Ortigas CBD, Pasig</td>\n",
       "      <td>11300000</td>\n",
       "      <td>1.0</td>\n",
       "      <td>1.0</td>\n",
       "      <td>NaN</td>\n",
       "    </tr>\n",
       "    <tr>\n",
       "      <th>1496</th>\n",
       "      <td>San Antonio, Pasig</td>\n",
       "      <td>41924000</td>\n",
       "      <td>2.0</td>\n",
       "      <td>2.0</td>\n",
       "      <td>114.0</td>\n",
       "    </tr>\n",
       "    <tr>\n",
       "      <th>1497</th>\n",
       "      <td>Bagumbayan, Quezon City</td>\n",
       "      <td>14278110</td>\n",
       "      <td>2.0</td>\n",
       "      <td>2.0</td>\n",
       "      <td>67.0</td>\n",
       "    </tr>\n",
       "    <tr>\n",
       "      <th>1498</th>\n",
       "      <td>San Antonio, Davao</td>\n",
       "      <td>7320000</td>\n",
       "      <td>1.0</td>\n",
       "      <td>2.0</td>\n",
       "      <td>50.0</td>\n",
       "    </tr>\n",
       "    <tr>\n",
       "      <th>1499</th>\n",
       "      <td>Ortigas CBD, Pasig</td>\n",
       "      <td>11054400</td>\n",
       "      <td>1.0</td>\n",
       "      <td>1.0</td>\n",
       "      <td>47.0</td>\n",
       "    </tr>\n",
       "  </tbody>\n",
       "</table>\n",
       "<p>1500 rows × 5 columns</p>\n",
       "</div>"
      ],
      "text/plain": [
       "                     location     price  bhk  bath    sqm\n",
       "0           Mactan, Lapu-Lapu  15916180  2.0   2.0   74.0\n",
       "1           Mactan, Lapu-Lapu   8730355  1.0   1.0   41.0\n",
       "2          San Antonio, Pasig  27448000  NaN   NaN   82.0\n",
       "3                Ugong, Pasig  16011000  1.0   NaN   58.0\n",
       "4        Tapia, General Trias   1935600  3.0   NaN   40.0\n",
       "...                       ...       ...  ...   ...    ...\n",
       "1495       Ortigas CBD, Pasig  11300000  1.0   1.0    NaN\n",
       "1496       San Antonio, Pasig  41924000  2.0   2.0  114.0\n",
       "1497  Bagumbayan, Quezon City  14278110  2.0   2.0   67.0\n",
       "1498       San Antonio, Davao   7320000  1.0   2.0   50.0\n",
       "1499       Ortigas CBD, Pasig  11054400  1.0   1.0   47.0\n",
       "\n",
       "[1500 rows x 5 columns]"
      ]
     },
     "execution_count": 13,
     "metadata": {},
     "output_type": "execute_result"
    }
   ],
   "source": [
    "df1[\"price\"] = df1[\"price\"].str.replace('[\\,\\.]', '', regex=True)\n",
    "df1"
   ]
  },
  {
   "cell_type": "code",
   "execution_count": 14,
   "metadata": {},
   "outputs": [
    {
     "data": {
      "text/html": [
       "<div>\n",
       "<style scoped>\n",
       "    .dataframe tbody tr th:only-of-type {\n",
       "        vertical-align: middle;\n",
       "    }\n",
       "\n",
       "    .dataframe tbody tr th {\n",
       "        vertical-align: top;\n",
       "    }\n",
       "\n",
       "    .dataframe thead th {\n",
       "        text-align: right;\n",
       "    }\n",
       "</style>\n",
       "<table border=\"1\" class=\"dataframe\">\n",
       "  <thead>\n",
       "    <tr style=\"text-align: right;\">\n",
       "      <th></th>\n",
       "      <th>bhk</th>\n",
       "      <th>bath</th>\n",
       "      <th>sqm</th>\n",
       "    </tr>\n",
       "  </thead>\n",
       "  <tbody>\n",
       "    <tr>\n",
       "      <th>count</th>\n",
       "      <td>1380.000000</td>\n",
       "      <td>867.000000</td>\n",
       "      <td>1442.000000</td>\n",
       "    </tr>\n",
       "    <tr>\n",
       "      <th>mean</th>\n",
       "      <td>1.763043</td>\n",
       "      <td>1.331027</td>\n",
       "      <td>70.518724</td>\n",
       "    </tr>\n",
       "    <tr>\n",
       "      <th>std</th>\n",
       "      <td>0.975968</td>\n",
       "      <td>0.590529</td>\n",
       "      <td>52.150399</td>\n",
       "    </tr>\n",
       "    <tr>\n",
       "      <th>min</th>\n",
       "      <td>1.000000</td>\n",
       "      <td>1.000000</td>\n",
       "      <td>16.000000</td>\n",
       "    </tr>\n",
       "    <tr>\n",
       "      <th>25%</th>\n",
       "      <td>1.000000</td>\n",
       "      <td>1.000000</td>\n",
       "      <td>43.000000</td>\n",
       "    </tr>\n",
       "    <tr>\n",
       "      <th>50%</th>\n",
       "      <td>1.000000</td>\n",
       "      <td>1.000000</td>\n",
       "      <td>58.000000</td>\n",
       "    </tr>\n",
       "    <tr>\n",
       "      <th>75%</th>\n",
       "      <td>2.000000</td>\n",
       "      <td>2.000000</td>\n",
       "      <td>84.000000</td>\n",
       "    </tr>\n",
       "    <tr>\n",
       "      <th>max</th>\n",
       "      <td>5.000000</td>\n",
       "      <td>6.000000</td>\n",
       "      <td>1136.000000</td>\n",
       "    </tr>\n",
       "  </tbody>\n",
       "</table>\n",
       "</div>"
      ],
      "text/plain": [
       "               bhk        bath          sqm\n",
       "count  1380.000000  867.000000  1442.000000\n",
       "mean      1.763043    1.331027    70.518724\n",
       "std       0.975968    0.590529    52.150399\n",
       "min       1.000000    1.000000    16.000000\n",
       "25%       1.000000    1.000000    43.000000\n",
       "50%       1.000000    1.000000    58.000000\n",
       "75%       2.000000    2.000000    84.000000\n",
       "max       5.000000    6.000000  1136.000000"
      ]
     },
     "execution_count": 14,
     "metadata": {},
     "output_type": "execute_result"
    }
   ],
   "source": [
    "df1.describe()"
   ]
  },
  {
   "cell_type": "code",
   "execution_count": 15,
   "metadata": {},
   "outputs": [
    {
     "data": {
      "text/plain": [
       "location     object\n",
       "price        object\n",
       "bhk         float64\n",
       "bath        float64\n",
       "sqm         float64\n",
       "dtype: object"
      ]
     },
     "execution_count": 15,
     "metadata": {},
     "output_type": "execute_result"
    }
   ],
   "source": [
    "df1.dtypes"
   ]
  },
  {
   "cell_type": "code",
   "execution_count": 16,
   "metadata": {},
   "outputs": [
    {
     "data": {
      "text/html": [
       "<div>\n",
       "<style scoped>\n",
       "    .dataframe tbody tr th:only-of-type {\n",
       "        vertical-align: middle;\n",
       "    }\n",
       "\n",
       "    .dataframe tbody tr th {\n",
       "        vertical-align: top;\n",
       "    }\n",
       "\n",
       "    .dataframe thead th {\n",
       "        text-align: right;\n",
       "    }\n",
       "</style>\n",
       "<table border=\"1\" class=\"dataframe\">\n",
       "  <thead>\n",
       "    <tr style=\"text-align: right;\">\n",
       "      <th></th>\n",
       "      <th>location</th>\n",
       "      <th>price</th>\n",
       "      <th>bhk</th>\n",
       "      <th>bath</th>\n",
       "      <th>sqm</th>\n",
       "    </tr>\n",
       "  </thead>\n",
       "  <tbody>\n",
       "    <tr>\n",
       "      <th>0</th>\n",
       "      <td>Mactan, Lapu-Lapu</td>\n",
       "      <td>15916180</td>\n",
       "      <td>2.0</td>\n",
       "      <td>2.0</td>\n",
       "      <td>74.0</td>\n",
       "    </tr>\n",
       "    <tr>\n",
       "      <th>1</th>\n",
       "      <td>Mactan, Lapu-Lapu</td>\n",
       "      <td>8730355</td>\n",
       "      <td>1.0</td>\n",
       "      <td>1.0</td>\n",
       "      <td>41.0</td>\n",
       "    </tr>\n",
       "    <tr>\n",
       "      <th>2</th>\n",
       "      <td>San Antonio, Pasig</td>\n",
       "      <td>27448000</td>\n",
       "      <td>1.0</td>\n",
       "      <td>1.0</td>\n",
       "      <td>82.0</td>\n",
       "    </tr>\n",
       "    <tr>\n",
       "      <th>3</th>\n",
       "      <td>Ugong, Pasig</td>\n",
       "      <td>16011000</td>\n",
       "      <td>1.0</td>\n",
       "      <td>1.0</td>\n",
       "      <td>58.0</td>\n",
       "    </tr>\n",
       "    <tr>\n",
       "      <th>4</th>\n",
       "      <td>Tapia, General Trias</td>\n",
       "      <td>1935600</td>\n",
       "      <td>3.0</td>\n",
       "      <td>1.0</td>\n",
       "      <td>40.0</td>\n",
       "    </tr>\n",
       "  </tbody>\n",
       "</table>\n",
       "</div>"
      ],
      "text/plain": [
       "               location     price  bhk  bath   sqm\n",
       "0     Mactan, Lapu-Lapu  15916180  2.0   2.0  74.0\n",
       "1     Mactan, Lapu-Lapu   8730355  1.0   1.0  41.0\n",
       "2    San Antonio, Pasig  27448000  1.0   1.0  82.0\n",
       "3          Ugong, Pasig  16011000  1.0   1.0  58.0\n",
       "4  Tapia, General Trias   1935600  3.0   1.0  40.0"
      ]
     },
     "execution_count": 16,
     "metadata": {},
     "output_type": "execute_result"
    }
   ],
   "source": [
    "# Fill null values using median\n",
    "df1[\"bhk\"].fillna(df1[\"bhk\"].median(), inplace=True)\n",
    "df1[\"bath\"].fillna(df1[\"bath\"].median(), inplace=True)\n",
    "df1[\"sqm\"].fillna(df1[\"sqm\"].median(), inplace=True)\n",
    "df1[\"price\"].fillna(df1[\"price\"].median(), inplace=True)\n",
    "df1.head()"
   ]
  },
  {
   "cell_type": "code",
   "execution_count": 17,
   "metadata": {},
   "outputs": [
    {
     "data": {
      "text/plain": [
       "location     object\n",
       "price        object\n",
       "bhk         float64\n",
       "bath        float64\n",
       "sqm         float64\n",
       "dtype: object"
      ]
     },
     "execution_count": 17,
     "metadata": {},
     "output_type": "execute_result"
    }
   ],
   "source": [
    "df1.dtypes"
   ]
  },
  {
   "cell_type": "code",
   "execution_count": 18,
   "metadata": {},
   "outputs": [
    {
     "data": {
      "text/plain": [
       "location    object\n",
       "price        int32\n",
       "bhk          int32\n",
       "bath         int32\n",
       "sqm          int32\n",
       "dtype: object"
      ]
     },
     "execution_count": 18,
     "metadata": {},
     "output_type": "execute_result"
    }
   ],
   "source": [
    "df1[\"price\"] = df1[\"price\"].astype(int)\n",
    "df1[\"bath\"] = df1[\"bath\"].astype(int)\n",
    "df1[\"bhk\"] = df1[\"bhk\"].astype(int)\n",
    "df1[\"sqm\"] = df1[\"sqm\"].astype(int)\n",
    "df1.dtypes"
   ]
  },
  {
   "cell_type": "markdown",
   "metadata": {},
   "source": [
    "## Feature Engineering"
   ]
  },
  {
   "cell_type": "code",
   "execution_count": 19,
   "metadata": {},
   "outputs": [
    {
     "data": {
      "text/plain": [
       "count    1.500000e+03\n",
       "mean     1.450201e+07\n",
       "std      1.289782e+07\n",
       "min      8.500000e+05\n",
       "25%      6.087384e+06\n",
       "50%      1.108800e+07\n",
       "75%      1.709355e+07\n",
       "max      1.752650e+08\n",
       "Name: price, dtype: float64"
      ]
     },
     "execution_count": 19,
     "metadata": {},
     "output_type": "execute_result"
    }
   ],
   "source": [
    "df1['price'].describe()"
   ]
  },
  {
   "cell_type": "code",
   "execution_count": 20,
   "metadata": {},
   "outputs": [
    {
     "data": {
      "text/plain": [
       "<Axes: xlabel='price', ylabel='sqm'>"
      ]
     },
     "execution_count": 20,
     "metadata": {},
     "output_type": "execute_result"
    },
    {
     "data": {
      "image/png": "[encoded data removed]",
      "text/plain": [
       "<Figure size 640x480 with 1 Axes>"
      ]
     },
     "metadata": {},
     "output_type": "display_data"
    }
   ],
   "source": [
    "df1.plot(x='price', y='sqm', kind='scatter')"
   ]
  },
  {
   "cell_type": "markdown",
   "metadata": {},
   "source": [
    "### Outlier Removal using Location\n",
    "`Removing outliers using mean and one standard deviation`\n",
    "\n",
    "`First, check the graph to clarify the outliers`"
   ]
  },
  {
   "cell_type": "code",
   "execution_count": 21,
   "metadata": {},
   "outputs": [
    {
     "name": "stdout",
     "output_type": "stream",
     "text": [
      "[2 1 3 4 5 6]\n",
      "[2 1 3 5 4]\n",
      "12897823.25541569\n",
      "14502008.546666667\n",
      "51.188504310420285\n",
      "70.03466666666667\n"
     ]
    }
   ],
   "source": [
    "print(df1.bath.unique())\n",
    "print(df1.bhk.unique())\n",
    "print(df1.price.std())\n",
    "print(df1.price.mean())\n",
    "print(df1.sqm.std())\n",
    "print(df1.sqm.mean())"
   ]
  },
  {
   "cell_type": "code",
   "execution_count": 23,
   "metadata": {},
   "outputs": [
    {
     "ename": "AttributeError",
     "evalue": "module 'seaborn' has no attribute 'histplot'",
     "output_type": "error",
     "traceback": [
      "\u001b[1;31m---------------------------------------------------------------------------\u001b[0m",
      "\u001b[1;31mAttributeError\u001b[0m                            Traceback (most recent call last)",
      "\u001b[1;32mc:\\Users\\jespe\\Desktop\\ds_projects\\ml_projects\\Real-Estate-Price-Prediction\\model\\PH_Houses_Price_Prediction.ipynb Cell 27\u001b[0m line \u001b[0;36m1\n\u001b[1;32m----> <a href='vscode-notebook-cell:/c%3A/Users/jespe/Desktop/ds_projects/ml_projects/Real-Estate-Price-Prediction/model/PH_Houses_Price_Prediction.ipynb#X35sZmlsZQ%3D%3D?line=0'>1</a>\u001b[0m sns\u001b[39m.\u001b[39;49mhistplot(df1\u001b[39m.\u001b[39mprice, kde\u001b[39m=\u001b[39m\u001b[39mTrue\u001b[39;00m)\n",
      "\u001b[1;31mAttributeError\u001b[0m: module 'seaborn' has no attribute 'histplot'"
     ]
    }
   ],
   "source": [
    "sns.histplot(df1.price, kde=True)"
   ]
  },
  {
   "cell_type": "code",
   "execution_count": 24,
   "metadata": {},
   "outputs": [
    {
     "ename": "AttributeError",
     "evalue": "module 'seaborn' has no attribute 'histplot'",
     "output_type": "error",
     "traceback": [
      "\u001b[1;31m---------------------------------------------------------------------------\u001b[0m",
      "\u001b[1;31mAttributeError\u001b[0m                            Traceback (most recent call last)",
      "\u001b[1;32mc:\\Users\\jespe\\Desktop\\ds_projects\\ml_projects\\Real-Estate-Price-Prediction\\model\\PH_Houses_Price_Prediction.ipynb Cell 28\u001b[0m line \u001b[0;36m1\n\u001b[1;32m----> <a href='vscode-notebook-cell:/c%3A/Users/jespe/Desktop/ds_projects/ml_projects/Real-Estate-Price-Prediction/model/PH_Houses_Price_Prediction.ipynb#X36sZmlsZQ%3D%3D?line=0'>1</a>\u001b[0m sns\u001b[39m.\u001b[39;49mhistplot(df1\u001b[39m.\u001b[39msqm, kde\u001b[39m=\u001b[39m\u001b[39mTrue\u001b[39;00m)\n",
      "\u001b[1;31mAttributeError\u001b[0m: module 'seaborn' has no attribute 'histplot'"
     ]
    }
   ],
   "source": [
    "sns.histplot(df1.sqm, kde=True)"
   ]
  },
  {
   "cell_type": "code",
   "execution_count": 26,
   "metadata": {},
   "outputs": [],
   "source": [
    "# Creating a function to remove outliers using mean and one standard deviation\n",
    "def remove_pps_outliers(df):\n",
    "    df_out = pd.DataFrame()\n",
    "    for key, subdf in df.groupby('location'):\n",
    "        m = np.median(subdf.sqm)\n",
    "        st = np.std(subdf.sqm)\n",
    "        reduced_df = subdf[(subdf.sqm>(m-st)) & (subdf.sqm<=(m+st))]\n",
    "        df_out = pd.concat([df_out,reduced_df],ignore_index=True)\n",
    "    return df_out\n",
    "\n",
    "new_df = remove_pps_outliers(df1)"
   ]
  },
  {
   "cell_type": "markdown",
   "metadata": {},
   "source": [
    "`Check the new dataframe without outliers`"
   ]
  },
  {
   "cell_type": "code",
   "execution_count": 27,
   "metadata": {},
   "outputs": [
    {
     "data": {
      "text/html": [
       "<div>\n",
       "<style scoped>\n",
       "    .dataframe tbody tr th:only-of-type {\n",
       "        vertical-align: middle;\n",
       "    }\n",
       "\n",
       "    .dataframe tbody tr th {\n",
       "        vertical-align: top;\n",
       "    }\n",
       "\n",
       "    .dataframe thead th {\n",
       "        text-align: right;\n",
       "    }\n",
       "</style>\n",
       "<table border=\"1\" class=\"dataframe\">\n",
       "  <thead>\n",
       "    <tr style=\"text-align: right;\">\n",
       "      <th></th>\n",
       "      <th>location</th>\n",
       "      <th>price</th>\n",
       "      <th>bhk</th>\n",
       "      <th>bath</th>\n",
       "      <th>sqm</th>\n",
       "    </tr>\n",
       "  </thead>\n",
       "  <tbody>\n",
       "    <tr>\n",
       "      <th>0</th>\n",
       "      <td>Alabang, Muntinlupa</td>\n",
       "      <td>11088000</td>\n",
       "      <td>1</td>\n",
       "      <td>1</td>\n",
       "      <td>36</td>\n",
       "    </tr>\n",
       "    <tr>\n",
       "      <th>1</th>\n",
       "      <td>Alabang, Muntinlupa</td>\n",
       "      <td>11088000</td>\n",
       "      <td>2</td>\n",
       "      <td>2</td>\n",
       "      <td>53</td>\n",
       "    </tr>\n",
       "    <tr>\n",
       "      <th>2</th>\n",
       "      <td>Alabang, Muntinlupa</td>\n",
       "      <td>10000000</td>\n",
       "      <td>2</td>\n",
       "      <td>2</td>\n",
       "      <td>74</td>\n",
       "    </tr>\n",
       "    <tr>\n",
       "      <th>3</th>\n",
       "      <td>Alabang, Muntinlupa</td>\n",
       "      <td>10000000</td>\n",
       "      <td>2</td>\n",
       "      <td>2</td>\n",
       "      <td>74</td>\n",
       "    </tr>\n",
       "    <tr>\n",
       "      <th>4</th>\n",
       "      <td>Alabang, Muntinlupa</td>\n",
       "      <td>11088000</td>\n",
       "      <td>1</td>\n",
       "      <td>1</td>\n",
       "      <td>36</td>\n",
       "    </tr>\n",
       "    <tr>\n",
       "      <th>...</th>\n",
       "      <td>...</td>\n",
       "      <td>...</td>\n",
       "      <td>...</td>\n",
       "      <td>...</td>\n",
       "      <td>...</td>\n",
       "    </tr>\n",
       "    <tr>\n",
       "      <th>1013</th>\n",
       "      <td>Wack-Wack Greenhills, Mandaluyong</td>\n",
       "      <td>16088526</td>\n",
       "      <td>1</td>\n",
       "      <td>1</td>\n",
       "      <td>63</td>\n",
       "    </tr>\n",
       "    <tr>\n",
       "      <th>1014</th>\n",
       "      <td>Zapatera, Cebu</td>\n",
       "      <td>3199000</td>\n",
       "      <td>1</td>\n",
       "      <td>1</td>\n",
       "      <td>27</td>\n",
       "    </tr>\n",
       "    <tr>\n",
       "      <th>1015</th>\n",
       "      <td>Zapatera, Cebu</td>\n",
       "      <td>5307970</td>\n",
       "      <td>1</td>\n",
       "      <td>1</td>\n",
       "      <td>40</td>\n",
       "    </tr>\n",
       "    <tr>\n",
       "      <th>1016</th>\n",
       "      <td>Zapatera, Cebu</td>\n",
       "      <td>5029302</td>\n",
       "      <td>1</td>\n",
       "      <td>1</td>\n",
       "      <td>37</td>\n",
       "    </tr>\n",
       "    <tr>\n",
       "      <th>1017</th>\n",
       "      <td>Zapatera, Cebu</td>\n",
       "      <td>3980978</td>\n",
       "      <td>1</td>\n",
       "      <td>1</td>\n",
       "      <td>30</td>\n",
       "    </tr>\n",
       "  </tbody>\n",
       "</table>\n",
       "<p>1018 rows × 5 columns</p>\n",
       "</div>"
      ],
      "text/plain": [
       "                               location     price  bhk  bath  sqm\n",
       "0                   Alabang, Muntinlupa  11088000    1     1   36\n",
       "1                   Alabang, Muntinlupa  11088000    2     2   53\n",
       "2                   Alabang, Muntinlupa  10000000    2     2   74\n",
       "3                   Alabang, Muntinlupa  10000000    2     2   74\n",
       "4                   Alabang, Muntinlupa  11088000    1     1   36\n",
       "...                                 ...       ...  ...   ...  ...\n",
       "1013  Wack-Wack Greenhills, Mandaluyong  16088526    1     1   63\n",
       "1014                     Zapatera, Cebu   3199000    1     1   27\n",
       "1015                     Zapatera, Cebu   5307970    1     1   40\n",
       "1016                     Zapatera, Cebu   5029302    1     1   37\n",
       "1017                     Zapatera, Cebu   3980978    1     1   30\n",
       "\n",
       "[1018 rows x 5 columns]"
      ]
     },
     "execution_count": 27,
     "metadata": {},
     "output_type": "execute_result"
    }
   ],
   "source": [
    "new_df"
   ]
  },
  {
   "cell_type": "code",
   "execution_count": 28,
   "metadata": {},
   "outputs": [
    {
     "ename": "AttributeError",
     "evalue": "module 'seaborn' has no attribute 'histplot'",
     "output_type": "error",
     "traceback": [
      "\u001b[1;31m---------------------------------------------------------------------------\u001b[0m",
      "\u001b[1;31mAttributeError\u001b[0m                            Traceback (most recent call last)",
      "\u001b[1;32mc:\\Users\\jespe\\Desktop\\ds_projects\\ml_projects\\Real-Estate-Price-Prediction\\model\\PH_Houses_Price_Prediction.ipynb Cell 32\u001b[0m line \u001b[0;36m1\n\u001b[1;32m----> <a href='vscode-notebook-cell:/c%3A/Users/jespe/Desktop/ds_projects/ml_projects/Real-Estate-Price-Prediction/model/PH_Houses_Price_Prediction.ipynb#X43sZmlsZQ%3D%3D?line=0'>1</a>\u001b[0m sns\u001b[39m.\u001b[39;49mhistplot(new_df\u001b[39m.\u001b[39msqm, kde\u001b[39m=\u001b[39m\u001b[39mTrue\u001b[39;00m)\n",
      "\u001b[1;31mAttributeError\u001b[0m: module 'seaborn' has no attribute 'histplot'"
     ]
    }
   ],
   "source": [
    "sns.histplot(new_df.sqm, kde=True)"
   ]
  },
  {
   "cell_type": "code",
   "execution_count": 29,
   "metadata": {},
   "outputs": [
    {
     "data": {
      "text/plain": [
       "<Axes: xlabel='price', ylabel='sqm'>"
      ]
     },
     "execution_count": 29,
     "metadata": {},
     "output_type": "execute_result"
    },
    {
     "data": {
      "image/png": "[encoded data removed]",
      "text/plain": [
       "<Figure size 640x480 with 1 Axes>"
      ]
     },
     "metadata": {},
     "output_type": "display_data"
    }
   ],
   "source": [
    "new_df.plot(x='price', y='sqm', kind='scatter')"
   ]
  },
  {
   "cell_type": "markdown",
   "metadata": {},
   "source": [
    "## Model Building\n",
    "`Use One Hot Encoding for Location`"
   ]
  },
  {
   "cell_type": "code",
   "execution_count": 30,
   "metadata": {},
   "outputs": [
    {
     "data": {
      "text/html": [
       "<div>\n",
       "<style scoped>\n",
       "    .dataframe tbody tr th:only-of-type {\n",
       "        vertical-align: middle;\n",
       "    }\n",
       "\n",
       "    .dataframe tbody tr th {\n",
       "        vertical-align: top;\n",
       "    }\n",
       "\n",
       "    .dataframe thead th {\n",
       "        text-align: right;\n",
       "    }\n",
       "</style>\n",
       "<table border=\"1\" class=\"dataframe\">\n",
       "  <thead>\n",
       "    <tr style=\"text-align: right;\">\n",
       "      <th></th>\n",
       "      <th>Alabang, Muntinlupa</th>\n",
       "      <th>Alapan II-A, Imus</th>\n",
       "      <th>Almanza Uno, Las Pinas</th>\n",
       "      <th>Anabu II-A, Imus</th>\n",
       "      <th>Antipolo del Sur, Lipa</th>\n",
       "      <th>Bagakay, Ozamiz</th>\n",
       "      <th>Bagong Ilog, Pasig</th>\n",
       "      <th>Bagumbayan, Quezon City</th>\n",
       "      <th>Bakakeng Central, Baguio</th>\n",
       "      <th>Banaybanay II, San Jose</th>\n",
       "      <th>...</th>\n",
       "      <th>Sapang Palay, San Jose del Monte</th>\n",
       "      <th>Sasa, Davao</th>\n",
       "      <th>Talaga, Capas</th>\n",
       "      <th>Talamban, Cebu</th>\n",
       "      <th>Talon Uno, Las Pinas</th>\n",
       "      <th>Tamiao, Compostela</th>\n",
       "      <th>Ugong, Pasig</th>\n",
       "      <th>Valle Cruz, Cabanatuan</th>\n",
       "      <th>Wack-Wack Greenhills, Mandaluyong</th>\n",
       "      <th>Zapatera, Cebu</th>\n",
       "    </tr>\n",
       "  </thead>\n",
       "  <tbody>\n",
       "    <tr>\n",
       "      <th>0</th>\n",
       "      <td>True</td>\n",
       "      <td>False</td>\n",
       "      <td>False</td>\n",
       "      <td>False</td>\n",
       "      <td>False</td>\n",
       "      <td>False</td>\n",
       "      <td>False</td>\n",
       "      <td>False</td>\n",
       "      <td>False</td>\n",
       "      <td>False</td>\n",
       "      <td>...</td>\n",
       "      <td>False</td>\n",
       "      <td>False</td>\n",
       "      <td>False</td>\n",
       "      <td>False</td>\n",
       "      <td>False</td>\n",
       "      <td>False</td>\n",
       "      <td>False</td>\n",
       "      <td>False</td>\n",
       "      <td>False</td>\n",
       "      <td>False</td>\n",
       "    </tr>\n",
       "    <tr>\n",
       "      <th>1</th>\n",
       "      <td>True</td>\n",
       "      <td>False</td>\n",
       "      <td>False</td>\n",
       "      <td>False</td>\n",
       "      <td>False</td>\n",
       "      <td>False</td>\n",
       "      <td>False</td>\n",
       "      <td>False</td>\n",
       "      <td>False</td>\n",
       "      <td>False</td>\n",
       "      <td>...</td>\n",
       "      <td>False</td>\n",
       "      <td>False</td>\n",
       "      <td>False</td>\n",
       "      <td>False</td>\n",
       "      <td>False</td>\n",
       "      <td>False</td>\n",
       "      <td>False</td>\n",
       "      <td>False</td>\n",
       "      <td>False</td>\n",
       "      <td>False</td>\n",
       "    </tr>\n",
       "    <tr>\n",
       "      <th>2</th>\n",
       "      <td>True</td>\n",
       "      <td>False</td>\n",
       "      <td>False</td>\n",
       "      <td>False</td>\n",
       "      <td>False</td>\n",
       "      <td>False</td>\n",
       "      <td>False</td>\n",
       "      <td>False</td>\n",
       "      <td>False</td>\n",
       "      <td>False</td>\n",
       "      <td>...</td>\n",
       "      <td>False</td>\n",
       "      <td>False</td>\n",
       "      <td>False</td>\n",
       "      <td>False</td>\n",
       "      <td>False</td>\n",
       "      <td>False</td>\n",
       "      <td>False</td>\n",
       "      <td>False</td>\n",
       "      <td>False</td>\n",
       "      <td>False</td>\n",
       "    </tr>\n",
       "    <tr>\n",
       "      <th>3</th>\n",
       "      <td>True</td>\n",
       "      <td>False</td>\n",
       "      <td>False</td>\n",
       "      <td>False</td>\n",
       "      <td>False</td>\n",
       "      <td>False</td>\n",
       "      <td>False</td>\n",
       "      <td>False</td>\n",
       "      <td>False</td>\n",
       "      <td>False</td>\n",
       "      <td>...</td>\n",
       "      <td>False</td>\n",
       "      <td>False</td>\n",
       "      <td>False</td>\n",
       "      <td>False</td>\n",
       "      <td>False</td>\n",
       "      <td>False</td>\n",
       "      <td>False</td>\n",
       "      <td>False</td>\n",
       "      <td>False</td>\n",
       "      <td>False</td>\n",
       "    </tr>\n",
       "    <tr>\n",
       "      <th>4</th>\n",
       "      <td>True</td>\n",
       "      <td>False</td>\n",
       "      <td>False</td>\n",
       "      <td>False</td>\n",
       "      <td>False</td>\n",
       "      <td>False</td>\n",
       "      <td>False</td>\n",
       "      <td>False</td>\n",
       "      <td>False</td>\n",
       "      <td>False</td>\n",
       "      <td>...</td>\n",
       "      <td>False</td>\n",
       "      <td>False</td>\n",
       "      <td>False</td>\n",
       "      <td>False</td>\n",
       "      <td>False</td>\n",
       "      <td>False</td>\n",
       "      <td>False</td>\n",
       "      <td>False</td>\n",
       "      <td>False</td>\n",
       "      <td>False</td>\n",
       "    </tr>\n",
       "  </tbody>\n",
       "</table>\n",
       "<p>5 rows × 86 columns</p>\n",
       "</div>"
      ],
      "text/plain": [
       "   Alabang, Muntinlupa  Alapan II-A, Imus  Almanza Uno, Las Pinas  \\\n",
       "0                 True              False                   False   \n",
       "1                 True              False                   False   \n",
       "2                 True              False                   False   \n",
       "3                 True              False                   False   \n",
       "4                 True              False                   False   \n",
       "\n",
       "   Anabu II-A, Imus  Antipolo del Sur, Lipa  Bagakay, Ozamiz  \\\n",
       "0             False                   False            False   \n",
       "1             False                   False            False   \n",
       "2             False                   False            False   \n",
       "3             False                   False            False   \n",
       "4             False                   False            False   \n",
       "\n",
       "   Bagong Ilog, Pasig  Bagumbayan, Quezon City  Bakakeng Central, Baguio  \\\n",
       "0               False                    False                     False   \n",
       "1               False                    False                     False   \n",
       "2               False                    False                     False   \n",
       "3               False                    False                     False   \n",
       "4               False                    False                     False   \n",
       "\n",
       "   Banaybanay II, San Jose  ...  Sapang Palay, San Jose del Monte  \\\n",
       "0                    False  ...                             False   \n",
       "1                    False  ...                             False   \n",
       "2                    False  ...                             False   \n",
       "3                    False  ...                             False   \n",
       "4                    False  ...                             False   \n",
       "\n",
       "   Sasa, Davao  Talaga, Capas  Talamban, Cebu  Talon Uno, Las Pinas  \\\n",
       "0        False          False           False                 False   \n",
       "1        False          False           False                 False   \n",
       "2        False          False           False                 False   \n",
       "3        False          False           False                 False   \n",
       "4        False          False           False                 False   \n",
       "\n",
       "   Tamiao, Compostela  Ugong, Pasig  Valle Cruz, Cabanatuan  \\\n",
       "0               False         False                   False   \n",
       "1               False         False                   False   \n",
       "2               False         False                   False   \n",
       "3               False         False                   False   \n",
       "4               False         False                   False   \n",
       "\n",
       "   Wack-Wack Greenhills, Mandaluyong  Zapatera, Cebu  \n",
       "0                              False           False  \n",
       "1                              False           False  \n",
       "2                              False           False  \n",
       "3                              False           False  \n",
       "4                              False           False  \n",
       "\n",
       "[5 rows x 86 columns]"
      ]
     },
     "execution_count": 30,
     "metadata": {},
     "output_type": "execute_result"
    }
   ],
   "source": [
    "dummies = pd.get_dummies(new_df.location)\n",
    "dummies.head()"
   ]
  },
  {
   "cell_type": "code",
   "execution_count": 31,
   "metadata": {},
   "outputs": [
    {
     "data": {
      "text/html": [
       "<div>\n",
       "<style scoped>\n",
       "    .dataframe tbody tr th:only-of-type {\n",
       "        vertical-align: middle;\n",
       "    }\n",
       "\n",
       "    .dataframe tbody tr th {\n",
       "        vertical-align: top;\n",
       "    }\n",
       "\n",
       "    .dataframe thead th {\n",
       "        text-align: right;\n",
       "    }\n",
       "</style>\n",
       "<table border=\"1\" class=\"dataframe\">\n",
       "  <thead>\n",
       "    <tr style=\"text-align: right;\">\n",
       "      <th></th>\n",
       "      <th>location</th>\n",
       "      <th>price</th>\n",
       "      <th>bhk</th>\n",
       "      <th>bath</th>\n",
       "      <th>sqm</th>\n",
       "      <th>Alabang, Muntinlupa</th>\n",
       "      <th>Alapan II-A, Imus</th>\n",
       "      <th>Almanza Uno, Las Pinas</th>\n",
       "      <th>Anabu II-A, Imus</th>\n",
       "      <th>Antipolo del Sur, Lipa</th>\n",
       "      <th>...</th>\n",
       "      <th>Santa Ana, Manila</th>\n",
       "      <th>Sapang Palay, San Jose del Monte</th>\n",
       "      <th>Sasa, Davao</th>\n",
       "      <th>Talaga, Capas</th>\n",
       "      <th>Talamban, Cebu</th>\n",
       "      <th>Talon Uno, Las Pinas</th>\n",
       "      <th>Tamiao, Compostela</th>\n",
       "      <th>Ugong, Pasig</th>\n",
       "      <th>Valle Cruz, Cabanatuan</th>\n",
       "      <th>Wack-Wack Greenhills, Mandaluyong</th>\n",
       "    </tr>\n",
       "  </thead>\n",
       "  <tbody>\n",
       "    <tr>\n",
       "      <th>0</th>\n",
       "      <td>Alabang, Muntinlupa</td>\n",
       "      <td>11088000</td>\n",
       "      <td>1</td>\n",
       "      <td>1</td>\n",
       "      <td>36</td>\n",
       "      <td>True</td>\n",
       "      <td>False</td>\n",
       "      <td>False</td>\n",
       "      <td>False</td>\n",
       "      <td>False</td>\n",
       "      <td>...</td>\n",
       "      <td>False</td>\n",
       "      <td>False</td>\n",
       "      <td>False</td>\n",
       "      <td>False</td>\n",
       "      <td>False</td>\n",
       "      <td>False</td>\n",
       "      <td>False</td>\n",
       "      <td>False</td>\n",
       "      <td>False</td>\n",
       "      <td>False</td>\n",
       "    </tr>\n",
       "    <tr>\n",
       "      <th>1</th>\n",
       "      <td>Alabang, Muntinlupa</td>\n",
       "      <td>11088000</td>\n",
       "      <td>2</td>\n",
       "      <td>2</td>\n",
       "      <td>53</td>\n",
       "      <td>True</td>\n",
       "      <td>False</td>\n",
       "      <td>False</td>\n",
       "      <td>False</td>\n",
       "      <td>False</td>\n",
       "      <td>...</td>\n",
       "      <td>False</td>\n",
       "      <td>False</td>\n",
       "      <td>False</td>\n",
       "      <td>False</td>\n",
       "      <td>False</td>\n",
       "      <td>False</td>\n",
       "      <td>False</td>\n",
       "      <td>False</td>\n",
       "      <td>False</td>\n",
       "      <td>False</td>\n",
       "    </tr>\n",
       "    <tr>\n",
       "      <th>2</th>\n",
       "      <td>Alabang, Muntinlupa</td>\n",
       "      <td>10000000</td>\n",
       "      <td>2</td>\n",
       "      <td>2</td>\n",
       "      <td>74</td>\n",
       "      <td>True</td>\n",
       "      <td>False</td>\n",
       "      <td>False</td>\n",
       "      <td>False</td>\n",
       "      <td>False</td>\n",
       "      <td>...</td>\n",
       "      <td>False</td>\n",
       "      <td>False</td>\n",
       "      <td>False</td>\n",
       "      <td>False</td>\n",
       "      <td>False</td>\n",
       "      <td>False</td>\n",
       "      <td>False</td>\n",
       "      <td>False</td>\n",
       "      <td>False</td>\n",
       "      <td>False</td>\n",
       "    </tr>\n",
       "    <tr>\n",
       "      <th>3</th>\n",
       "      <td>Alabang, Muntinlupa</td>\n",
       "      <td>10000000</td>\n",
       "      <td>2</td>\n",
       "      <td>2</td>\n",
       "      <td>74</td>\n",
       "      <td>True</td>\n",
       "      <td>False</td>\n",
       "      <td>False</td>\n",
       "      <td>False</td>\n",
       "      <td>False</td>\n",
       "      <td>...</td>\n",
       "      <td>False</td>\n",
       "      <td>False</td>\n",
       "      <td>False</td>\n",
       "      <td>False</td>\n",
       "      <td>False</td>\n",
       "      <td>False</td>\n",
       "      <td>False</td>\n",
       "      <td>False</td>\n",
       "      <td>False</td>\n",
       "      <td>False</td>\n",
       "    </tr>\n",
       "    <tr>\n",
       "      <th>4</th>\n",
       "      <td>Alabang, Muntinlupa</td>\n",
       "      <td>11088000</td>\n",
       "      <td>1</td>\n",
       "      <td>1</td>\n",
       "      <td>36</td>\n",
       "      <td>True</td>\n",
       "      <td>False</td>\n",
       "      <td>False</td>\n",
       "      <td>False</td>\n",
       "      <td>False</td>\n",
       "      <td>...</td>\n",
       "      <td>False</td>\n",
       "      <td>False</td>\n",
       "      <td>False</td>\n",
       "      <td>False</td>\n",
       "      <td>False</td>\n",
       "      <td>False</td>\n",
       "      <td>False</td>\n",
       "      <td>False</td>\n",
       "      <td>False</td>\n",
       "      <td>False</td>\n",
       "    </tr>\n",
       "  </tbody>\n",
       "</table>\n",
       "<p>5 rows × 90 columns</p>\n",
       "</div>"
      ],
      "text/plain": [
       "              location     price  bhk  bath  sqm  Alabang, Muntinlupa  \\\n",
       "0  Alabang, Muntinlupa  11088000    1     1   36                 True   \n",
       "1  Alabang, Muntinlupa  11088000    2     2   53                 True   \n",
       "2  Alabang, Muntinlupa  10000000    2     2   74                 True   \n",
       "3  Alabang, Muntinlupa  10000000    2     2   74                 True   \n",
       "4  Alabang, Muntinlupa  11088000    1     1   36                 True   \n",
       "\n",
       "   Alapan II-A, Imus  Almanza Uno, Las Pinas  Anabu II-A, Imus  \\\n",
       "0              False                   False             False   \n",
       "1              False                   False             False   \n",
       "2              False                   False             False   \n",
       "3              False                   False             False   \n",
       "4              False                   False             False   \n",
       "\n",
       "   Antipolo del Sur, Lipa  ...  Santa Ana, Manila  \\\n",
       "0                   False  ...              False   \n",
       "1                   False  ...              False   \n",
       "2                   False  ...              False   \n",
       "3                   False  ...              False   \n",
       "4                   False  ...              False   \n",
       "\n",
       "   Sapang Palay, San Jose del Monte  Sasa, Davao  Talaga, Capas  \\\n",
       "0                             False        False          False   \n",
       "1                             False        False          False   \n",
       "2                             False        False          False   \n",
       "3                             False        False          False   \n",
       "4                             False        False          False   \n",
       "\n",
       "   Talamban, Cebu  Talon Uno, Las Pinas  Tamiao, Compostela  Ugong, Pasig  \\\n",
       "0           False                 False               False         False   \n",
       "1           False                 False               False         False   \n",
       "2           False                 False               False         False   \n",
       "3           False                 False               False         False   \n",
       "4           False                 False               False         False   \n",
       "\n",
       "   Valle Cruz, Cabanatuan  Wack-Wack Greenhills, Mandaluyong  \n",
       "0                   False                              False  \n",
       "1                   False                              False  \n",
       "2                   False                              False  \n",
       "3                   False                              False  \n",
       "4                   False                              False  \n",
       "\n",
       "[5 rows x 90 columns]"
      ]
     },
     "execution_count": 31,
     "metadata": {},
     "output_type": "execute_result"
    }
   ],
   "source": [
    "new_df1 = pd.concat([new_df,dummies.drop('Zapatera, Cebu',axis='columns')],axis='columns')\n",
    "new_df1.head()"
   ]
  },
  {
   "cell_type": "code",
   "execution_count": 32,
   "metadata": {},
   "outputs": [
    {
     "data": {
      "text/html": [
       "<div>\n",
       "<style scoped>\n",
       "    .dataframe tbody tr th:only-of-type {\n",
       "        vertical-align: middle;\n",
       "    }\n",
       "\n",
       "    .dataframe tbody tr th {\n",
       "        vertical-align: top;\n",
       "    }\n",
       "\n",
       "    .dataframe thead th {\n",
       "        text-align: right;\n",
       "    }\n",
       "</style>\n",
       "<table border=\"1\" class=\"dataframe\">\n",
       "  <thead>\n",
       "    <tr style=\"text-align: right;\">\n",
       "      <th></th>\n",
       "      <th>price</th>\n",
       "      <th>bhk</th>\n",
       "      <th>bath</th>\n",
       "      <th>sqm</th>\n",
       "      <th>Alabang, Muntinlupa</th>\n",
       "      <th>Alapan II-A, Imus</th>\n",
       "      <th>Almanza Uno, Las Pinas</th>\n",
       "      <th>Anabu II-A, Imus</th>\n",
       "      <th>Antipolo del Sur, Lipa</th>\n",
       "      <th>Bagakay, Ozamiz</th>\n",
       "      <th>...</th>\n",
       "      <th>Santa Ana, Manila</th>\n",
       "      <th>Sapang Palay, San Jose del Monte</th>\n",
       "      <th>Sasa, Davao</th>\n",
       "      <th>Talaga, Capas</th>\n",
       "      <th>Talamban, Cebu</th>\n",
       "      <th>Talon Uno, Las Pinas</th>\n",
       "      <th>Tamiao, Compostela</th>\n",
       "      <th>Ugong, Pasig</th>\n",
       "      <th>Valle Cruz, Cabanatuan</th>\n",
       "      <th>Wack-Wack Greenhills, Mandaluyong</th>\n",
       "    </tr>\n",
       "  </thead>\n",
       "  <tbody>\n",
       "    <tr>\n",
       "      <th>0</th>\n",
       "      <td>11088000</td>\n",
       "      <td>1</td>\n",
       "      <td>1</td>\n",
       "      <td>36</td>\n",
       "      <td>True</td>\n",
       "      <td>False</td>\n",
       "      <td>False</td>\n",
       "      <td>False</td>\n",
       "      <td>False</td>\n",
       "      <td>False</td>\n",
       "      <td>...</td>\n",
       "      <td>False</td>\n",
       "      <td>False</td>\n",
       "      <td>False</td>\n",
       "      <td>False</td>\n",
       "      <td>False</td>\n",
       "      <td>False</td>\n",
       "      <td>False</td>\n",
       "      <td>False</td>\n",
       "      <td>False</td>\n",
       "      <td>False</td>\n",
       "    </tr>\n",
       "    <tr>\n",
       "      <th>1</th>\n",
       "      <td>11088000</td>\n",
       "      <td>2</td>\n",
       "      <td>2</td>\n",
       "      <td>53</td>\n",
       "      <td>True</td>\n",
       "      <td>False</td>\n",
       "      <td>False</td>\n",
       "      <td>False</td>\n",
       "      <td>False</td>\n",
       "      <td>False</td>\n",
       "      <td>...</td>\n",
       "      <td>False</td>\n",
       "      <td>False</td>\n",
       "      <td>False</td>\n",
       "      <td>False</td>\n",
       "      <td>False</td>\n",
       "      <td>False</td>\n",
       "      <td>False</td>\n",
       "      <td>False</td>\n",
       "      <td>False</td>\n",
       "      <td>False</td>\n",
       "    </tr>\n",
       "    <tr>\n",
       "      <th>2</th>\n",
       "      <td>10000000</td>\n",
       "      <td>2</td>\n",
       "      <td>2</td>\n",
       "      <td>74</td>\n",
       "      <td>True</td>\n",
       "      <td>False</td>\n",
       "      <td>False</td>\n",
       "      <td>False</td>\n",
       "      <td>False</td>\n",
       "      <td>False</td>\n",
       "      <td>...</td>\n",
       "      <td>False</td>\n",
       "      <td>False</td>\n",
       "      <td>False</td>\n",
       "      <td>False</td>\n",
       "      <td>False</td>\n",
       "      <td>False</td>\n",
       "      <td>False</td>\n",
       "      <td>False</td>\n",
       "      <td>False</td>\n",
       "      <td>False</td>\n",
       "    </tr>\n",
       "    <tr>\n",
       "      <th>3</th>\n",
       "      <td>10000000</td>\n",
       "      <td>2</td>\n",
       "      <td>2</td>\n",
       "      <td>74</td>\n",
       "      <td>True</td>\n",
       "      <td>False</td>\n",
       "      <td>False</td>\n",
       "      <td>False</td>\n",
       "      <td>False</td>\n",
       "      <td>False</td>\n",
       "      <td>...</td>\n",
       "      <td>False</td>\n",
       "      <td>False</td>\n",
       "      <td>False</td>\n",
       "      <td>False</td>\n",
       "      <td>False</td>\n",
       "      <td>False</td>\n",
       "      <td>False</td>\n",
       "      <td>False</td>\n",
       "      <td>False</td>\n",
       "      <td>False</td>\n",
       "    </tr>\n",
       "    <tr>\n",
       "      <th>4</th>\n",
       "      <td>11088000</td>\n",
       "      <td>1</td>\n",
       "      <td>1</td>\n",
       "      <td>36</td>\n",
       "      <td>True</td>\n",
       "      <td>False</td>\n",
       "      <td>False</td>\n",
       "      <td>False</td>\n",
       "      <td>False</td>\n",
       "      <td>False</td>\n",
       "      <td>...</td>\n",
       "      <td>False</td>\n",
       "      <td>False</td>\n",
       "      <td>False</td>\n",
       "      <td>False</td>\n",
       "      <td>False</td>\n",
       "      <td>False</td>\n",
       "      <td>False</td>\n",
       "      <td>False</td>\n",
       "      <td>False</td>\n",
       "      <td>False</td>\n",
       "    </tr>\n",
       "  </tbody>\n",
       "</table>\n",
       "<p>5 rows × 89 columns</p>\n",
       "</div>"
      ],
      "text/plain": [
       "      price  bhk  bath  sqm  Alabang, Muntinlupa  Alapan II-A, Imus  \\\n",
       "0  11088000    1     1   36                 True              False   \n",
       "1  11088000    2     2   53                 True              False   \n",
       "2  10000000    2     2   74                 True              False   \n",
       "3  10000000    2     2   74                 True              False   \n",
       "4  11088000    1     1   36                 True              False   \n",
       "\n",
       "   Almanza Uno, Las Pinas  Anabu II-A, Imus  Antipolo del Sur, Lipa  \\\n",
       "0                   False             False                   False   \n",
       "1                   False             False                   False   \n",
       "2                   False             False                   False   \n",
       "3                   False             False                   False   \n",
       "4                   False             False                   False   \n",
       "\n",
       "   Bagakay, Ozamiz  ...  Santa Ana, Manila  Sapang Palay, San Jose del Monte  \\\n",
       "0            False  ...              False                             False   \n",
       "1            False  ...              False                             False   \n",
       "2            False  ...              False                             False   \n",
       "3            False  ...              False                             False   \n",
       "4            False  ...              False                             False   \n",
       "\n",
       "   Sasa, Davao  Talaga, Capas  Talamban, Cebu  Talon Uno, Las Pinas  \\\n",
       "0        False          False           False                 False   \n",
       "1        False          False           False                 False   \n",
       "2        False          False           False                 False   \n",
       "3        False          False           False                 False   \n",
       "4        False          False           False                 False   \n",
       "\n",
       "   Tamiao, Compostela  Ugong, Pasig  Valle Cruz, Cabanatuan  \\\n",
       "0               False         False                   False   \n",
       "1               False         False                   False   \n",
       "2               False         False                   False   \n",
       "3               False         False                   False   \n",
       "4               False         False                   False   \n",
       "\n",
       "   Wack-Wack Greenhills, Mandaluyong  \n",
       "0                              False  \n",
       "1                              False  \n",
       "2                              False  \n",
       "3                              False  \n",
       "4                              False  \n",
       "\n",
       "[5 rows x 89 columns]"
      ]
     },
     "execution_count": 32,
     "metadata": {},
     "output_type": "execute_result"
    }
   ],
   "source": [
    "new_df1 = new_df1.drop('location', axis='columns')\n",
    "new_df1.head()"
   ]
  },
  {
   "cell_type": "markdown",
   "metadata": {},
   "source": [
    "`Building a model now`"
   ]
  },
  {
   "cell_type": "code",
   "execution_count": 33,
   "metadata": {},
   "outputs": [
    {
     "name": "stdout",
     "output_type": "stream",
     "text": [
      "(1018, 88)\n",
      "1018\n"
     ]
    }
   ],
   "source": [
    "X = new_df1.drop(['price'],axis='columns')\n",
    "y = new_df1.price\n",
    "print(X.shape)\n",
    "print(len(y))"
   ]
  },
  {
   "cell_type": "code",
   "execution_count": 34,
   "metadata": {},
   "outputs": [],
   "source": [
    "# Use train test split\n",
    "from sklearn.model_selection import train_test_split\n",
    "X_train, X_test, y_train, y_test = train_test_split(X, y, test_size=0.2, random_state=10)"
   ]
  },
  {
   "cell_type": "code",
   "execution_count": 35,
   "metadata": {},
   "outputs": [
    {
     "data": {
      "text/plain": [
       "0.9693493609473347"
      ]
     },
     "execution_count": 35,
     "metadata": {},
     "output_type": "execute_result"
    }
   ],
   "source": [
    "# Using Random Forest Regressor to test the dataset\n",
    "from sklearn.ensemble import RandomForestRegressor\n",
    "rf = RandomForestRegressor(n_estimators=40)\n",
    "rf.fit(X_train,y_train)\n",
    "rf.score(X_test,y_test)"
   ]
  },
  {
   "cell_type": "markdown",
   "metadata": {},
   "source": [
    "`Use K Fold cross validation to measure accuracy of our LinearRegression & Random Forest Regressor model`"
   ]
  },
  {
   "cell_type": "code",
   "execution_count": 36,
   "metadata": {},
   "outputs": [
    {
     "data": {
      "text/plain": [
       "array([0.97615976, 0.98783988, 0.98914992, 0.97777859, 0.97428682])"
      ]
     },
     "execution_count": 36,
     "metadata": {},
     "output_type": "execute_result"
    }
   ],
   "source": [
    "from sklearn.model_selection import ShuffleSplit\n",
    "from sklearn.model_selection import cross_val_score\n",
    "\n",
    "cv = ShuffleSplit(n_splits=5, test_size=0.2, random_state=0)\n",
    "\n",
    "cross_val_score(RandomForestRegressor(), X, y, cv=cv)"
   ]
  },
  {
   "cell_type": "markdown",
   "metadata": {},
   "source": [
    "`Use K Fold cross validation to measure accuracy of our RandomForestRegressor model`"
   ]
  },
  {
   "cell_type": "markdown",
   "metadata": {},
   "source": [
    "**As we can see that in 5 iterations we get a score above 97% all the time.**\n",
    "\n",
    "**This is pretty good but we want to test few other algorithms for regression to see if we can get even better score.** \n",
    "\n",
    "**And now we will use GridSearchCV for this.**"
   ]
  },
  {
   "cell_type": "code",
   "execution_count": 37,
   "metadata": {},
   "outputs": [
    {
     "name": "stderr",
     "output_type": "stream",
     "text": [
      "c:\\Users\\jespe\\Desktop\\ds_projects\\env\\lib\\site-packages\\sklearn\\linear_model\\_coordinate_descent.py:628: ConvergenceWarning: Objective did not converge. You might want to increase the number of iterations, check the scale of the features or consider increasing regularisation. Duality gap: 1.855e+15, tolerance: 7.941e+12\n",
      "  model = cd_fast.enet_coordinate_descent(\n",
      "c:\\Users\\jespe\\Desktop\\ds_projects\\env\\lib\\site-packages\\sklearn\\linear_model\\_coordinate_descent.py:628: ConvergenceWarning: Objective did not converge. You might want to increase the number of iterations, check the scale of the features or consider increasing regularisation. Duality gap: 1.890e+15, tolerance: 7.616e+12\n",
      "  model = cd_fast.enet_coordinate_descent(\n",
      "c:\\Users\\jespe\\Desktop\\ds_projects\\env\\lib\\site-packages\\sklearn\\linear_model\\_coordinate_descent.py:628: ConvergenceWarning: Objective did not converge. You might want to increase the number of iterations, check the scale of the features or consider increasing regularisation. Duality gap: 2.049e+15, tolerance: 7.698e+12\n",
      "  model = cd_fast.enet_coordinate_descent(\n",
      "c:\\Users\\jespe\\Desktop\\ds_projects\\env\\lib\\site-packages\\sklearn\\linear_model\\_coordinate_descent.py:628: ConvergenceWarning: Objective did not converge. You might want to increase the number of iterations, check the scale of the features or consider increasing regularisation. Duality gap: 1.473e+15, tolerance: 7.724e+12\n",
      "  model = cd_fast.enet_coordinate_descent(\n",
      "c:\\Users\\jespe\\Desktop\\ds_projects\\env\\lib\\site-packages\\sklearn\\linear_model\\_coordinate_descent.py:628: ConvergenceWarning: Objective did not converge. You might want to increase the number of iterations, check the scale of the features or consider increasing regularisation. Duality gap: 2.067e+15, tolerance: 7.599e+12\n",
      "  model = cd_fast.enet_coordinate_descent(\n",
      "c:\\Users\\jespe\\Desktop\\ds_projects\\env\\lib\\site-packages\\sklearn\\linear_model\\_coordinate_descent.py:628: ConvergenceWarning: Objective did not converge. You might want to increase the number of iterations, check the scale of the features or consider increasing regularisation. Duality gap: 1.835e+15, tolerance: 7.941e+12\n",
      "  model = cd_fast.enet_coordinate_descent(\n",
      "c:\\Users\\jespe\\Desktop\\ds_projects\\env\\lib\\site-packages\\sklearn\\linear_model\\_coordinate_descent.py:628: ConvergenceWarning: Objective did not converge. You might want to increase the number of iterations, check the scale of the features or consider increasing regularisation. Duality gap: 1.868e+15, tolerance: 7.616e+12\n",
      "  model = cd_fast.enet_coordinate_descent(\n",
      "c:\\Users\\jespe\\Desktop\\ds_projects\\env\\lib\\site-packages\\sklearn\\linear_model\\_coordinate_descent.py:628: ConvergenceWarning: Objective did not converge. You might want to increase the number of iterations, check the scale of the features or consider increasing regularisation. Duality gap: 2.032e+15, tolerance: 7.698e+12\n",
      "  model = cd_fast.enet_coordinate_descent(\n",
      "c:\\Users\\jespe\\Desktop\\ds_projects\\env\\lib\\site-packages\\sklearn\\linear_model\\_coordinate_descent.py:628: ConvergenceWarning: Objective did not converge. You might want to increase the number of iterations, check the scale of the features or consider increasing regularisation. Duality gap: 1.326e+15, tolerance: 7.724e+12\n",
      "  model = cd_fast.enet_coordinate_descent(\n",
      "c:\\Users\\jespe\\Desktop\\ds_projects\\env\\lib\\site-packages\\sklearn\\linear_model\\_coordinate_descent.py:628: ConvergenceWarning: Objective did not converge. You might want to increase the number of iterations, check the scale of the features or consider increasing regularisation. Duality gap: 2.505e+14, tolerance: 7.599e+12\n",
      "  model = cd_fast.enet_coordinate_descent(\n",
      "c:\\Users\\jespe\\Desktop\\ds_projects\\env\\lib\\site-packages\\sklearn\\linear_model\\_coordinate_descent.py:628: ConvergenceWarning: Objective did not converge. You might want to increase the number of iterations, check the scale of the features or consider increasing regularisation. Duality gap: 1.862e+15, tolerance: 7.941e+12\n",
      "  model = cd_fast.enet_coordinate_descent(\n",
      "c:\\Users\\jespe\\Desktop\\ds_projects\\env\\lib\\site-packages\\sklearn\\linear_model\\_coordinate_descent.py:628: ConvergenceWarning: Objective did not converge. You might want to increase the number of iterations, check the scale of the features or consider increasing regularisation. Duality gap: 1.890e+15, tolerance: 7.616e+12\n",
      "  model = cd_fast.enet_coordinate_descent(\n",
      "c:\\Users\\jespe\\Desktop\\ds_projects\\env\\lib\\site-packages\\sklearn\\linear_model\\_coordinate_descent.py:628: ConvergenceWarning: Objective did not converge. You might want to increase the number of iterations, check the scale of the features or consider increasing regularisation. Duality gap: 2.066e+15, tolerance: 7.698e+12\n",
      "  model = cd_fast.enet_coordinate_descent(\n",
      "c:\\Users\\jespe\\Desktop\\ds_projects\\env\\lib\\site-packages\\sklearn\\linear_model\\_coordinate_descent.py:628: ConvergenceWarning: Objective did not converge. You might want to increase the number of iterations, check the scale of the features or consider increasing regularisation. Duality gap: 1.356e+15, tolerance: 7.724e+12\n",
      "  model = cd_fast.enet_coordinate_descent(\n",
      "c:\\Users\\jespe\\Desktop\\ds_projects\\env\\lib\\site-packages\\sklearn\\linear_model\\_coordinate_descent.py:628: ConvergenceWarning: Objective did not converge. You might want to increase the number of iterations, check the scale of the features or consider increasing regularisation. Duality gap: 2.047e+15, tolerance: 7.599e+12\n",
      "  model = cd_fast.enet_coordinate_descent(\n",
      "c:\\Users\\jespe\\Desktop\\ds_projects\\env\\lib\\site-packages\\sklearn\\linear_model\\_coordinate_descent.py:628: ConvergenceWarning: Objective did not converge. You might want to increase the number of iterations, check the scale of the features or consider increasing regularisation. Duality gap: 1.805e+15, tolerance: 7.941e+12\n",
      "  model = cd_fast.enet_coordinate_descent(\n",
      "c:\\Users\\jespe\\Desktop\\ds_projects\\env\\lib\\site-packages\\sklearn\\linear_model\\_coordinate_descent.py:628: ConvergenceWarning: Objective did not converge. You might want to increase the number of iterations, check the scale of the features or consider increasing regularisation. Duality gap: 1.831e+15, tolerance: 7.616e+12\n",
      "  model = cd_fast.enet_coordinate_descent(\n",
      "c:\\Users\\jespe\\Desktop\\ds_projects\\env\\lib\\site-packages\\sklearn\\linear_model\\_coordinate_descent.py:628: ConvergenceWarning: Objective did not converge. You might want to increase the number of iterations, check the scale of the features or consider increasing regularisation. Duality gap: 1.996e+15, tolerance: 7.698e+12\n",
      "  model = cd_fast.enet_coordinate_descent(\n",
      "c:\\Users\\jespe\\Desktop\\ds_projects\\env\\lib\\site-packages\\sklearn\\linear_model\\_coordinate_descent.py:628: ConvergenceWarning: Objective did not converge. You might want to increase the number of iterations, check the scale of the features or consider increasing regularisation. Duality gap: 1.161e+15, tolerance: 7.724e+12\n",
      "  model = cd_fast.enet_coordinate_descent(\n",
      "c:\\Users\\jespe\\Desktop\\ds_projects\\env\\lib\\site-packages\\sklearn\\linear_model\\_coordinate_descent.py:628: ConvergenceWarning: Objective did not converge. You might want to increase the number of iterations, check the scale of the features or consider increasing regularisation. Duality gap: 1.641e+15, tolerance: 9.605e+12\n",
      "  model = cd_fast.enet_coordinate_descent(\n",
      "c:\\Users\\jespe\\Desktop\\ds_projects\\env\\lib\\site-packages\\sklearn\\model_selection\\_validation.py:425: FitFailedWarning: \n",
      "10 fits failed out of a total of 20.\n",
      "The score on these train-test partitions for these parameters will be set to nan.\n",
      "If these failures are not expected, you can try to debug them by setting error_score='raise'.\n",
      "\n",
      "Below are more details about the failures:\n",
      "--------------------------------------------------------------------------------\n",
      "10 fits failed with the following error:\n",
      "Traceback (most recent call last):\n",
      "  File \"c:\\Users\\jespe\\Desktop\\ds_projects\\env\\lib\\site-packages\\sklearn\\model_selection\\_validation.py\", line 732, in _fit_and_score\n",
      "    estimator.fit(X_train, y_train, **fit_params)\n",
      "  File \"c:\\Users\\jespe\\Desktop\\ds_projects\\env\\lib\\site-packages\\sklearn\\base.py\", line 1144, in wrapper\n",
      "    estimator._validate_params()\n",
      "  File \"c:\\Users\\jespe\\Desktop\\ds_projects\\env\\lib\\site-packages\\sklearn\\base.py\", line 637, in _validate_params\n",
      "    validate_parameter_constraints(\n",
      "  File \"c:\\Users\\jespe\\Desktop\\ds_projects\\env\\lib\\site-packages\\sklearn\\utils\\_param_validation.py\", line 95, in validate_parameter_constraints\n",
      "    raise InvalidParameterError(\n",
      "sklearn.utils._param_validation.InvalidParameterError: The 'criterion' parameter of DecisionTreeRegressor must be a str among {'poisson', 'friedman_mse', 'absolute_error', 'squared_error'}. Got 'mse' instead.\n",
      "\n",
      "  warnings.warn(some_fits_failed_message, FitFailedWarning)\n",
      "c:\\Users\\jespe\\Desktop\\ds_projects\\env\\lib\\site-packages\\sklearn\\model_selection\\_search.py:976: UserWarning: One or more of the test scores are non-finite: [       nan        nan 0.97232416 0.9708535 ]\n",
      "  warnings.warn(\n"
     ]
    },
    {
     "data": {
      "text/html": [
       "<div>\n",
       "<style scoped>\n",
       "    .dataframe tbody tr th:only-of-type {\n",
       "        vertical-align: middle;\n",
       "    }\n",
       "\n",
       "    .dataframe tbody tr th {\n",
       "        vertical-align: top;\n",
       "    }\n",
       "\n",
       "    .dataframe thead th {\n",
       "        text-align: right;\n",
       "    }\n",
       "</style>\n",
       "<table border=\"1\" class=\"dataframe\">\n",
       "  <thead>\n",
       "    <tr style=\"text-align: right;\">\n",
       "      <th></th>\n",
       "      <th>model</th>\n",
       "      <th>best_score</th>\n",
       "      <th>best_params</th>\n",
       "    </tr>\n",
       "  </thead>\n",
       "  <tbody>\n",
       "    <tr>\n",
       "      <th>0</th>\n",
       "      <td>linear_regression</td>\n",
       "      <td>0.905548</td>\n",
       "      <td>{'copy_X': True, 'fit_intercept': True, 'n_job...</td>\n",
       "    </tr>\n",
       "    <tr>\n",
       "      <th>1</th>\n",
       "      <td>lasso</td>\n",
       "      <td>0.909683</td>\n",
       "      <td>{'alpha': 2, 'selection': 'cyclic'}</td>\n",
       "    </tr>\n",
       "    <tr>\n",
       "      <th>2</th>\n",
       "      <td>decision_tree</td>\n",
       "      <td>0.972324</td>\n",
       "      <td>{'criterion': 'friedman_mse', 'splitter': 'best'}</td>\n",
       "    </tr>\n",
       "  </tbody>\n",
       "</table>\n",
       "</div>"
      ],
      "text/plain": [
       "               model  best_score  \\\n",
       "0  linear_regression    0.905548   \n",
       "1              lasso    0.909683   \n",
       "2      decision_tree    0.972324   \n",
       "\n",
       "                                         best_params  \n",
       "0  {'copy_X': True, 'fit_intercept': True, 'n_job...  \n",
       "1                {'alpha': 2, 'selection': 'cyclic'}  \n",
       "2  {'criterion': 'friedman_mse', 'splitter': 'best'}  "
      ]
     },
     "execution_count": 37,
     "metadata": {},
     "output_type": "execute_result"
    }
   ],
   "source": [
    "from sklearn.model_selection import GridSearchCV\n",
    "from sklearn.linear_model import LinearRegression\n",
    "from sklearn.linear_model import Lasso\n",
    "from sklearn.tree import DecisionTreeRegressor\n",
    "\n",
    "def find_best_model_using_gridsearchcv(X,y):\n",
    "    algos = {\n",
    "        'linear_regression' : {\n",
    "            'model': LinearRegression(),\n",
    "            'params': {\n",
    "                'copy_X' : [True, False],\n",
    "                'fit_intercept' : [True, False],\n",
    "                'n_jobs' : [1,2,3],\n",
    "                'positive' : [True, False]\n",
    "            }\n",
    "        },\n",
    "        'lasso': {\n",
    "            'model': Lasso(),\n",
    "            'params': {\n",
    "                'alpha': [1,2],\n",
    "                'selection': ['random', 'cyclic']\n",
    "            }\n",
    "        },\n",
    "        'decision_tree': {\n",
    "            'model': DecisionTreeRegressor(),\n",
    "            'params': {\n",
    "                'criterion' : ['mse','friedman_mse'],\n",
    "                'splitter': ['best','random']\n",
    "            }\n",
    "        }\n",
    "    }\n",
    "    scores = []\n",
    "    cv = ShuffleSplit(n_splits=5, test_size=0.2, random_state=0)\n",
    "    for algo_name, config in algos.items():\n",
    "        clf =  GridSearchCV(config['model'], config['params'], cv=cv, return_train_score=False)\n",
    "        clf.fit(X,y)\n",
    "        scores.append({\n",
    "            'model': algo_name,\n",
    "            'best_score': clf.best_score_,\n",
    "            'best_params': clf.best_params_\n",
    "        })\n",
    "\n",
    "    return pd.DataFrame(scores,columns=['model','best_score','best_params'])\n",
    "\n",
    "# Calling  the function\n",
    "find_best_model_using_gridsearchcv(X,y)"
   ]
  },
  {
   "cell_type": "markdown",
   "metadata": {},
   "source": [
    "**Based on above results we can say that RandomForestRegressor gives the best score. Hence we will use that.**"
   ]
  },
  {
   "cell_type": "markdown",
   "metadata": {},
   "source": [
    "## Test the model for few properties"
   ]
  },
  {
   "cell_type": "code",
   "execution_count": 81,
   "metadata": {},
   "outputs": [],
   "source": [
    "def predict_price(location, sqm, bath, bhk):    \n",
    "    loc_index = np.where(X.columns==location)[0][0]\n",
    "\n",
    "    x = np.zeros(len(X.columns))\n",
    "    x[0] = sqm\n",
    "    x[1] = bath\n",
    "    x[2] = bhk\n",
    "    if loc_index >= 0:\n",
    "        x[loc_index] = 1\n",
    "\n",
    "    return round(rf.predict([x])[0], 2)"
   ]
  },
  {
   "cell_type": "code",
   "execution_count": 82,
   "metadata": {},
   "outputs": [
    {
     "data": {
      "text/plain": [
       "Index(['bhk', 'bath', 'sqm', 'Alabang, Muntinlupa', 'Alapan II-A, Imus',\n",
       "       'Almanza Uno, Las Pinas', 'Anabu II-A, Imus', 'Antipolo del Sur, Lipa',\n",
       "       'Bagakay, Ozamiz', 'Bagong Ilog, Pasig', 'Bagumbayan, Quezon City',\n",
       "       'Bakakeng Central, Baguio', 'Banaybanay II, San Jose',\n",
       "       'Barangay 19-B, Davao', 'Barangka Ilaya, Mandaluyong',\n",
       "       'Biclatan, General Trias', 'Biluso, Silang', 'Bugtong Na Pulo, Lipa',\n",
       "       'Buli, Taal', 'Cabuco, Trece Martires', 'Calubcub II, San Juan',\n",
       "       'Cubao, Quezon City', 'Cupang Proper, Balanga', 'Cupang, Muntinlupa',\n",
       "       'Darasa, Tanauan', 'Diliman, Quezon City', 'Eden, Mexico',\n",
       "       'Ermita, Manila', 'F.B Harisson, Pasay', 'Gibraltar, Baguio',\n",
       "       'Greenhills, San Juan', 'Highway Hills, Mandaluyong',\n",
       "       'Hippodromo, Cebu', 'Inosloban, Lipa', 'Isabang, Tayabas',\n",
       "       'Kaytitinga III, Alfonso', 'Langkaan I, Dasmarinas', 'Libertad, Pasay',\n",
       "       'Longos, Malolos', 'Loyola Heights, Quezon City', 'Lumil, Silang',\n",
       "       'Ma-A, Davao', 'Mactan, Lapu-Lapu', 'Maitim 2nd West, Tagaytay',\n",
       "       'Majada Labas, Calamba', 'Malate, Manila', 'Mambog I, Bacoor',\n",
       "       'Mampalasan, Binan', 'Mandalagan, Bacolod', 'Manggahan, General Trias',\n",
       "       'Manggahan, Pasig', 'Manibaug Paralaya, Porac', 'McKinley Hill, Taguig',\n",
       "       'Merville, Paranaque', 'New Manila, Quezon City',\n",
       "       'North Reclamation Area, Cebu', 'Novaliches, Quezon City',\n",
       "       'Oranbo, Pasig', 'Ortigas CBD, Pasig', 'Pag-Ibig Sa Nayon, Quezon City',\n",
       "       'Paligsahan, Quezon City', 'Palo-Alto, Calamba', 'Pasay Rotonda, Pasay',\n",
       "       'Paso de Blas, Valenzuela', 'Pasong Camachile I, General Trias',\n",
       "       'Pinagbuhatan, Pasig', 'Platero, Binan', 'Punta, Calamba',\n",
       "       'Quezon Hill Proper, Baguio', 'Roxas Boulevard, Manila',\n",
       "       'Sampaloc II, Dasmarinas', 'San Agustin I, Dasmarinas',\n",
       "       'San Antonio, Davao', 'San Antonio, Pasig', 'San Antonio, Santo Tomas',\n",
       "       'San Francisco, Binan', 'San Juan, Cainta', 'San Sebastian, Kawit',\n",
       "       'Santa Ana, Manila', 'Sapang Palay, San Jose del Monte', 'Sasa, Davao',\n",
       "       'Talaga, Capas', 'Talamban, Cebu', 'Talon Uno, Las Pinas',\n",
       "       'Tamiao, Compostela', 'Ugong, Pasig', 'Valle Cruz, Cabanatuan',\n",
       "       'Wack-Wack Greenhills, Mandaluyong'],\n",
       "      dtype='object')"
      ]
     },
     "execution_count": 82,
     "metadata": {},
     "output_type": "execute_result"
    }
   ],
   "source": [
    "X.columns"
   ]
  },
  {
   "cell_type": "code",
   "execution_count": 83,
   "metadata": {},
   "outputs": [
    {
     "data": {
      "text/html": [
       "<div>\n",
       "<style scoped>\n",
       "    .dataframe tbody tr th:only-of-type {\n",
       "        vertical-align: middle;\n",
       "    }\n",
       "\n",
       "    .dataframe tbody tr th {\n",
       "        vertical-align: top;\n",
       "    }\n",
       "\n",
       "    .dataframe thead th {\n",
       "        text-align: right;\n",
       "    }\n",
       "</style>\n",
       "<table border=\"1\" class=\"dataframe\">\n",
       "  <thead>\n",
       "    <tr style=\"text-align: right;\">\n",
       "      <th></th>\n",
       "      <th>location</th>\n",
       "      <th>price</th>\n",
       "      <th>bhk</th>\n",
       "      <th>bath</th>\n",
       "      <th>sqm</th>\n",
       "    </tr>\n",
       "  </thead>\n",
       "  <tbody>\n",
       "    <tr>\n",
       "      <th>0</th>\n",
       "      <td>Alabang, Muntinlupa</td>\n",
       "      <td>11088000</td>\n",
       "      <td>1</td>\n",
       "      <td>1</td>\n",
       "      <td>36</td>\n",
       "    </tr>\n",
       "    <tr>\n",
       "      <th>1</th>\n",
       "      <td>Alabang, Muntinlupa</td>\n",
       "      <td>11088000</td>\n",
       "      <td>2</td>\n",
       "      <td>2</td>\n",
       "      <td>53</td>\n",
       "    </tr>\n",
       "    <tr>\n",
       "      <th>2</th>\n",
       "      <td>Alabang, Muntinlupa</td>\n",
       "      <td>10000000</td>\n",
       "      <td>2</td>\n",
       "      <td>2</td>\n",
       "      <td>74</td>\n",
       "    </tr>\n",
       "    <tr>\n",
       "      <th>3</th>\n",
       "      <td>Alabang, Muntinlupa</td>\n",
       "      <td>10000000</td>\n",
       "      <td>2</td>\n",
       "      <td>2</td>\n",
       "      <td>74</td>\n",
       "    </tr>\n",
       "    <tr>\n",
       "      <th>4</th>\n",
       "      <td>Alabang, Muntinlupa</td>\n",
       "      <td>11088000</td>\n",
       "      <td>1</td>\n",
       "      <td>1</td>\n",
       "      <td>36</td>\n",
       "    </tr>\n",
       "    <tr>\n",
       "      <th>5</th>\n",
       "      <td>Alabang, Muntinlupa</td>\n",
       "      <td>11088000</td>\n",
       "      <td>1</td>\n",
       "      <td>1</td>\n",
       "      <td>66</td>\n",
       "    </tr>\n",
       "    <tr>\n",
       "      <th>6</th>\n",
       "      <td>Alabang, Muntinlupa</td>\n",
       "      <td>8900000</td>\n",
       "      <td>2</td>\n",
       "      <td>2</td>\n",
       "      <td>73</td>\n",
       "    </tr>\n",
       "    <tr>\n",
       "      <th>7</th>\n",
       "      <td>Alabang, Muntinlupa</td>\n",
       "      <td>4500000</td>\n",
       "      <td>1</td>\n",
       "      <td>1</td>\n",
       "      <td>37</td>\n",
       "    </tr>\n",
       "    <tr>\n",
       "      <th>8</th>\n",
       "      <td>Alabang, Muntinlupa</td>\n",
       "      <td>11088000</td>\n",
       "      <td>1</td>\n",
       "      <td>1</td>\n",
       "      <td>67</td>\n",
       "    </tr>\n",
       "    <tr>\n",
       "      <th>9</th>\n",
       "      <td>Alabang, Muntinlupa</td>\n",
       "      <td>11088000</td>\n",
       "      <td>3</td>\n",
       "      <td>2</td>\n",
       "      <td>72</td>\n",
       "    </tr>\n",
       "  </tbody>\n",
       "</table>\n",
       "</div>"
      ],
      "text/plain": [
       "              location     price  bhk  bath  sqm\n",
       "0  Alabang, Muntinlupa  11088000    1     1   36\n",
       "1  Alabang, Muntinlupa  11088000    2     2   53\n",
       "2  Alabang, Muntinlupa  10000000    2     2   74\n",
       "3  Alabang, Muntinlupa  10000000    2     2   74\n",
       "4  Alabang, Muntinlupa  11088000    1     1   36\n",
       "5  Alabang, Muntinlupa  11088000    1     1   66\n",
       "6  Alabang, Muntinlupa   8900000    2     2   73\n",
       "7  Alabang, Muntinlupa   4500000    1     1   37\n",
       "8  Alabang, Muntinlupa  11088000    1     1   67\n",
       "9  Alabang, Muntinlupa  11088000    3     2   72"
      ]
     },
     "execution_count": 83,
     "metadata": {},
     "output_type": "execute_result"
    }
   ],
   "source": [
    "new_df.head(10)"
   ]
  },
  {
   "cell_type": "code",
   "execution_count": 84,
   "metadata": {},
   "outputs": [
    {
     "name": "stderr",
     "output_type": "stream",
     "text": [
      "c:\\Users\\jespe\\Desktop\\ds_projects\\env\\lib\\site-packages\\sklearn\\base.py:464: UserWarning: X does not have valid feature names, but RandomForestRegressor was fitted with feature names\n",
      "  warnings.warn(\n"
     ]
    },
    {
     "data": {
      "text/plain": [
       "10593900.0"
      ]
     },
     "execution_count": 84,
     "metadata": {},
     "output_type": "execute_result"
    }
   ],
   "source": [
    "predict_price(\"Alabang, Muntinlupa\", 1, 1, 36)"
   ]
  },
  {
   "cell_type": "code",
   "execution_count": 85,
   "metadata": {},
   "outputs": [
    {
     "name": "stderr",
     "output_type": "stream",
     "text": [
      "c:\\Users\\jespe\\Desktop\\ds_projects\\env\\lib\\site-packages\\sklearn\\base.py:464: UserWarning: X does not have valid feature names, but RandomForestRegressor was fitted with feature names\n",
      "  warnings.warn(\n"
     ]
    },
    {
     "data": {
      "text/plain": [
       "3731545.11"
      ]
     },
     "execution_count": 85,
     "metadata": {},
     "output_type": "execute_result"
    }
   ],
   "source": [
    "predict_price(\"Bakakeng Central, Baguio\", 2, 1, 50)"
   ]
  },
  {
   "cell_type": "code",
   "execution_count": 86,
   "metadata": {},
   "outputs": [
    {
     "name": "stderr",
     "output_type": "stream",
     "text": [
      "c:\\Users\\jespe\\Desktop\\ds_projects\\env\\lib\\site-packages\\sklearn\\base.py:464: UserWarning: X does not have valid feature names, but RandomForestRegressor was fitted with feature names\n",
      "  warnings.warn(\n"
     ]
    },
    {
     "data": {
      "text/plain": [
       "5369066.95"
      ]
     },
     "execution_count": 86,
     "metadata": {},
     "output_type": "execute_result"
    }
   ],
   "source": [
    "predict_price(\"Novaliches, Quezon City\", 2, 1, 70)"
   ]
  },
  {
   "cell_type": "markdown",
   "metadata": {},
   "source": [
    "## Export the tested model to a pickle file"
   ]
  },
  {
   "cell_type": "code",
   "execution_count": null,
   "metadata": {},
   "outputs": [],
   "source": [
    "import pickle\n",
    "with open('philippines_home_prices_model.pickle','wb') as f:\n",
    "    pickle.dump(rf,f)"
   ]
  },
  {
   "cell_type": "code",
   "execution_count": null,
   "metadata": {},
   "outputs": [],
   "source": [
    "import json\n",
    "columns = {\n",
    "    'data_columns' : [col.lower() for col in X.columns]\n",
    "}\n",
    "with open(\"columns.json\",\"w\") as f:\n",
    "    f.write(json.dumps(columns))"
   ]
  },
  {
   "cell_type": "code",
   "execution_count": null,
   "metadata": {},
   "outputs": [],
   "source": []
  },
  {
   "cell_type": "code",
   "execution_count": null,
   "metadata": {},
   "outputs": [],
   "source": []
  },
  {
   "cell_type": "code",
   "execution_count": null,
   "metadata": {},
   "outputs": [],
   "source": []
  }
 ],
 "metadata": {
  "kernelspec": {
   "display_name": "Python 3",
   "language": "python",
   "name": "python3"
  },
  "language_info": {
   "codemirror_mode": {
    "name": "ipython",
    "version": 3
   },
   "file_extension": ".py",
   "mimetype": "text/x-python",
   "name": "python",
   "nbconvert_exporter": "python",
   "pygments_lexer": "ipython3",
   "version": "3.10.13"
  },
  "orig_nbformat": 4
 },
 "nbformat": 4,
 "nbformat_minor": 2
}
